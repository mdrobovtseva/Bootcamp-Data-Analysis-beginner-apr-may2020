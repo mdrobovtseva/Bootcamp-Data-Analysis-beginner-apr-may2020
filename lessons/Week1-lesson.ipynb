{
 "cells": [
  {
   "cell_type": "markdown",
   "metadata": {},
   "source": [
    "# Before we start\n",
    "\n",
    "* Course *assumes* no prior (programming) knowledge\n",
    "* Goal: to give you an general understanding of the Python programming and how you can leverage it in doing data analytics\n",
    "* In scope\n",
    "    - Data structures in Python\n",
    "    - Working with Juypter notebooks\n",
    "    - Write your own functions\n",
    "    - Manipulate csv and text files\n",
    "    - Basics of Json\n",
    "    - Basic data analytics with python-pandas\n",
    "    \n",
    "* Out of scope\n",
    "    - run time of algorithms\n",
    "    - Writing classes\n",
    "    - Optimalisation techniques\n",
    "    \n",
    "* git pull origin"
   ]
  },
  {
   "cell_type": "markdown",
   "metadata": {},
   "source": [
    "# Programming\n",
    "\n",
    "## Formal versus natural languages\n",
    "* A programming language is a formal language\n",
    "  * Rather strict syntax: rules that govern the structure of code/program\n",
    "  * **Parsing**: figuring out the structure. Also done by an interpreter or compiler. It is useful to be familiar with this term. Sooner or later, you will see this term in an error message.\n",
    "  * Little to no ambiguity\n",
    "  * Typically more concise than natural language\n",
    "  * Punctuation can be important, in Python it certainly is\n",
    "  \n",
    "# Python\n",
    "* Very broadly available, widely used: Python is a general purpose programming language.\n",
    "    * developing desktop and web applications.\n",
    "    * data analyses + visualisation\n",
    "* Easy readable - beginners friendly\n",
    "* Python is portable (cross-platform)\n",
    "* Python is a high-level interpreted language: \n",
    "* Python uses an *interpreter* and therefor you need *tools* to execute your code to tell the machine what to do. You need An interpreter to translate your code to so that the machine (the computer) understand what you tell it (machine  readable). The interpreter the translate of high level Source Code to low level Machine code, like a kind of translator. The interpreter reads the source code line by line, and executes it along the way. https://www.programiz.com/article/difference-compiler-interpreter\n",
    "* execution of code\n",
    "  * Command line (shell / terminal) - example:\n",
    "      * Example on the command line\n",
    "  * IDE (integrated development environment). For instance Spyder, PyCharm, Sublime (later course example)\n",
    "      * Web-development\n",
    "      * Use the extension `.py`\n",
    "  * *__Jupyter Notebook__* (also known as IPython Notebook): The Jupyter Notebook is an open-source web application that allows you to create and share documents that contain live code, equations, visualisations and narrative text\n",
    "      * Data analytics / Data science \n",
    "      * Markdown\n",
    "      * ! (or Bang) When doing interactive computing it is common to need to access the underlying shell\n",
    "      * Basic show: run cell / new cell / cut cell / markdowns\n",
    "      * Make sure to study short cuts, it will save you tons of time: https://www.dataquest.io/blog/jupyter-notebook-tips-tricks-shortcuts/\n",
    "      * Google: juyper new cell (not python new cell)\n",
    "\n",
    "## Versioning\n",
    "* We use *version 3.7* and verything >3.7 is ok\n",
    "* check the version number if you try it on your own\n",
    "    * terminal (`python --version`) \n",
    "    * or (`! Python --version`) in your notebook"
   ]
  },
  {
   "cell_type": "code",
   "execution_count": 4,
   "metadata": {},
   "outputs": [
    {
     "name": "stdout",
     "output_type": "stream",
     "text": [
      "Python 3.7.3\r\n"
     ]
    }
   ],
   "source": [
    "! Python --version"
   ]
  },
  {
   "cell_type": "markdown",
   "metadata": {},
   "source": [
    "## Debugging\n",
    "* Programming errors are called *bugs*\n",
    "* The process of removing those errors is called de*bug*ging\n",
    "* Keep trying!\n",
    "* Keep control of your emotions\n",
    "* Do not be scared for documentation https://docs.python.org/3/tutorial/index.html\n",
    "* Google, stackoverflow\n",
    "\n",
    "## Programs\n",
    "* Program\n",
    "  * Sequence of instructions\n",
    "  * Specifies how to perform a 'computation'\n",
    "  * Typical components:\n",
    "    * Input\n",
    "    * Output\n",
    "    * Calculation\n",
    "    * Conditional execution\n",
    "    * Repetition\n",
    "  * Breaking a large, complex task into smaller and smaller subtasks\n"
   ]
  },
  {
   "cell_type": "code",
   "execution_count": 1,
   "metadata": {},
   "outputs": [
    {
     "name": "stdout",
     "output_type": "stream",
     "text": [
      "Sum of 15 and 12 is 27\n"
     ]
    }
   ],
   "source": [
    "# Python program example to add two numbers \n",
    "  \n",
    "number1 = 15\n",
    "number2 = 12\n",
    "  \n",
    "# Adding two numbers \n",
    "sums = number1 + number2 \n",
    "  \n",
    "# printing values and string interpolation\n",
    "print(f\"Sum of {number1} and {number2} is {sums}\")"
   ]
  },
  {
   "cell_type": "markdown",
   "metadata": {},
   "source": [
    "# Printing\n",
    "* Printing we do for humans, to debug your program, the computer does not need to print to see if the code is correct\n",
    "* ALWAYS be printing, debugging is done this way"
   ]
  },
  {
   "cell_type": "code",
   "execution_count": 11,
   "metadata": {
    "scrolled": true
   },
   "outputs": [
    {
     "name": "stdout",
     "output_type": "stream",
     "text": [
      "Hello, world!\n"
     ]
    }
   ],
   "source": [
    "print('Hello, world!')"
   ]
  },
  {
   "cell_type": "code",
   "execution_count": 12,
   "metadata": {
    "scrolled": true
   },
   "outputs": [
    {
     "data": {
      "text/plain": [
       "1.6666666666666667"
      ]
     },
     "execution_count": 12,
     "metadata": {},
     "output_type": "execute_result"
    }
   ],
   "source": [
    "print(5/3)"
   ]
  },
  {
   "cell_type": "markdown",
   "metadata": {},
   "source": [
    "## Basic operators\n",
    "\n",
    "* `+` for addition\n",
    "* `-` for subtraction\n",
    "* `*` for multiplication\n",
    "* `/` for division\n",
    "* `**` for exponentiation (raise to the power of)\n",
    "* `^` for bitwise xor (you should remember that ^ is not for exponentiation in Python)\n",
    "\n",
    "[bitwise operations in Python](http://wiki.python.org/moin/BitwiseOperators)"
   ]
  },
  {
   "cell_type": "markdown",
   "metadata": {},
   "source": [
    "## Types and values\n",
    "\n",
    "* int\n",
    "* float (deepening: Decimal, Fraction)\n",
    "* str"
   ]
  },
  {
   "cell_type": "code",
   "execution_count": 14,
   "metadata": {},
   "outputs": [
    {
     "data": {
      "text/plain": [
       "int"
      ]
     },
     "execution_count": 14,
     "metadata": {},
     "output_type": "execute_result"
    }
   ],
   "source": [
    "type(5)"
   ]
  },
  {
   "cell_type": "code",
   "execution_count": 53,
   "metadata": {},
   "outputs": [
    {
     "data": {
      "text/plain": [
       "str"
      ]
     },
     "execution_count": 53,
     "metadata": {},
     "output_type": "execute_result"
    }
   ],
   "source": [
    "type('My name is')"
   ]
  },
  {
   "cell_type": "code",
   "execution_count": 54,
   "metadata": {},
   "outputs": [
    {
     "data": {
      "text/plain": [
       "str"
      ]
     },
     "execution_count": 54,
     "metadata": {},
     "output_type": "execute_result"
    }
   ],
   "source": [
    "type('5')"
   ]
  },
  {
   "cell_type": "code",
   "execution_count": 16,
   "metadata": {},
   "outputs": [
    {
     "data": {
      "text/plain": [
       "float"
      ]
     },
     "execution_count": 16,
     "metadata": {},
     "output_type": "execute_result"
    }
   ],
   "source": [
    "type(4.9)"
   ]
  },
  {
   "cell_type": "markdown",
   "metadata": {},
   "source": [
    "## (str) 'operations'\n",
    "* Double \" or singe' ?\n",
    "* Concatenation (`+`)\n",
    "* Repetition"
   ]
  },
  {
   "cell_type": "code",
   "execution_count": 24,
   "metadata": {
    "scrolled": true
   },
   "outputs": [
    {
     "name": "stdout",
     "output_type": "stream",
     "text": [
      "Doesn't it matter?\n"
     ]
    }
   ],
   "source": [
    "print(\"Doesn't it \" + 'matter' +'?')"
   ]
  },
  {
   "cell_type": "code",
   "execution_count": 3,
   "metadata": {
    "scrolled": true
   },
   "outputs": [
    {
     "name": "stdout",
     "output_type": "stream",
     "text": [
      "Hurray! Hurray! Hurray! \n",
      "Hurray!Hurray!Hurray!\n"
     ]
    },
    {
     "data": {
      "text/plain": [
       "'can you spot the difference -> this only works in Jupyter without print'"
      ]
     },
     "execution_count": 3,
     "metadata": {},
     "output_type": "execute_result"
    }
   ],
   "source": [
    "print(3 * 'Hurray! ')\n",
    "print(3 * \"Hurray!\")\n",
    "\n",
    "\"can you spot the difference\" \" -> this only works in Jupyter without print\""
   ]
  },
  {
   "cell_type": "markdown",
   "metadata": {},
   "source": [
    "## Errors\n",
    "\n",
    "* **Syntax error**: Syntax errors are the most basic type of error. They arise when the Python parser is unable to understand a line of code. Most syntax errors are typos, incorrect indentation, or incorrect arguments. If you get this error, try looking at your code for any of these. Syntax means the same thing as grammar."
   ]
  },
  {
   "cell_type": "code",
   "execution_count": 39,
   "metadata": {},
   "outputs": [
    {
     "ename": "SyntaxError",
     "evalue": "Missing parentheses in call to 'print'. Did you mean print(\"This will through an error\")? (<ipython-input-39-97e9cba308ce>, line 1)",
     "output_type": "error",
     "traceback": [
      "\u001b[0;36m  File \u001b[0;32m\"<ipython-input-39-97e9cba308ce>\"\u001b[0;36m, line \u001b[0;32m1\u001b[0m\n\u001b[0;31m    print \"This will through an error\"\u001b[0m\n\u001b[0m                                     ^\u001b[0m\n\u001b[0;31mSyntaxError\u001b[0m\u001b[0;31m:\u001b[0m Missing parentheses in call to 'print'. Did you mean print(\"This will through an error\")?\n"
     ]
    }
   ],
   "source": [
    "print \"This will through an error\""
   ]
  },
  {
   "cell_type": "markdown",
   "metadata": {},
   "source": [
    "* **Runtime error** (exceptions)\n",
    "* Semantic error (e.g. \"17 + 8\" turns out to be 30)"
   ]
  },
  {
   "cell_type": "markdown",
   "metadata": {},
   "source": [
    "# Variables, Lists, Comments"
   ]
  },
  {
   "cell_type": "markdown",
   "metadata": {},
   "source": [
    "## Variables\n",
    "* **Variable**: a named (memory) 'location' to store a value\n",
    "* Variables also relate to the concept of 'state'\n",
    "* Choose _meaningful_ variable names (the name documents what the variable is used for)\n",
    "* Recommended name: all lowercase -> `amount_of_cash` (pothole_case_naming) or camelCase `amountOfCash`\n",
    "* Must start with a letter (not a digit); Python keywords can not be used as a variable name"
   ]
  },
  {
   "cell_type": "code",
   "execution_count": 58,
   "metadata": {},
   "outputs": [],
   "source": [
    "name = \"Demi\"\n",
    "age = 26"
   ]
  },
  {
   "cell_type": "code",
   "execution_count": 59,
   "metadata": {},
   "outputs": [
    {
     "name": "stdout",
     "output_type": "stream",
     "text": [
      "my name is Demi and I am 26 old\n"
     ]
    }
   ],
   "source": [
    "print(f\"my name is {name} and I am {age} old\")"
   ]
  },
  {
   "cell_type": "code",
   "execution_count": 73,
   "metadata": {},
   "outputs": [
    {
     "name": "stdout",
     "output_type": "stream",
     "text": [
      "Old x = 39 and new x = 17\n",
      "Old x = 39 and new 17\n"
     ]
    }
   ],
   "source": [
    "x = 17\n",
    "y = 39\n",
    "\n",
    "# Switch x and y by using a third (helper) variable\n",
    "z = x\n",
    "x = y\n",
    "y = z\n",
    "\n",
    "print(f\"Old x = {x} and new x = {y}\")\n",
    "print(f\"Old x = {x} and new\", y)"
   ]
  },
  {
   "cell_type": "markdown",
   "metadata": {},
   "source": [
    "## Lists, sets and indexing\n",
    "### List\n",
    "List can contain every data type and are mutable (can change)"
   ]
  },
  {
   "cell_type": "code",
   "execution_count": 135,
   "metadata": {},
   "outputs": [],
   "source": [
    "squares = [1, 4, 9, 16, 25]\n",
    "words = [\"My\" , \"Name\", \"is\", \"Demi\"]\n",
    "another_list = [\"With letter and the number\", 3]"
   ]
  },
  {
   "cell_type": "code",
   "execution_count": 136,
   "metadata": {},
   "outputs": [
    {
     "name": "stdout",
     "output_type": "stream",
     "text": [
      "[1, 4, 9, 16, 25, 'My', 'Name', 'is', 'Demi']\n"
     ]
    }
   ],
   "source": [
    "both = squares + words\n",
    "print(both)"
   ]
  },
  {
   "cell_type": "code",
   "execution_count": 137,
   "metadata": {},
   "outputs": [],
   "source": [
    "three_lists = both + another_list"
   ]
  },
  {
   "cell_type": "code",
   "execution_count": 138,
   "metadata": {},
   "outputs": [
    {
     "name": "stdout",
     "output_type": "stream",
     "text": [
      "[1, 4, 9, 16, 25, 'My', 'Name', 'is', 'Demi', 'With letter and the number', 3]\n"
     ]
    }
   ],
   "source": [
    "print(three_lists)"
   ]
  },
  {
   "cell_type": "markdown",
   "metadata": {},
   "source": [
    "### Sets\n",
    "Sets are like list but make unique elements from the list"
   ]
  },
  {
   "cell_type": "code",
   "execution_count": 139,
   "metadata": {},
   "outputs": [
    {
     "name": "stdout",
     "output_type": "stream",
     "text": [
      "{1, 2, 3, 4}\n"
     ]
    }
   ],
   "source": [
    "squared_set = {1,1, 2, 2, 3, 3, 4, 4}\n",
    "print(squared_set)"
   ]
  },
  {
   "cell_type": "markdown",
   "metadata": {},
   "source": [
    "### Indexing\n",
    "- Find an element in the list\n",
    "- Always start with index 0 in python"
   ]
  },
  {
   "cell_type": "code",
   "execution_count": 141,
   "metadata": {
    "scrolled": true
   },
   "outputs": [
    {
     "name": "stdout",
     "output_type": "stream",
     "text": [
      "My\n"
     ]
    }
   ],
   "source": [
    "print(words[0])"
   ]
  },
  {
   "cell_type": "code",
   "execution_count": 142,
   "metadata": {},
   "outputs": [
    {
     "name": "stdout",
     "output_type": "stream",
     "text": [
      "Demi\n"
     ]
    }
   ],
   "source": [
    "# Quickly find the last index\n",
    "print(words[3])\n",
    "# print(words[-1])"
   ]
  },
  {
   "cell_type": "code",
   "execution_count": 152,
   "metadata": {},
   "outputs": [
    {
     "name": "stdout",
     "output_type": "stream",
     "text": [
      "['My', 'Name', 'is', 4]\n",
      "['My', 'Name']\n",
      "['is', 4]\n",
      "['Name', 'is']\n",
      "['Name', 'is']\n",
      "['My', 'Name']\n"
     ]
    }
   ],
   "source": [
    "# Or print slices\n",
    "print(words[:])\n",
    "print(words[:2])\n",
    "print(words[2:])\n",
    "print(words[1:3])\n",
    "print(words[1:-1])\n",
    "print(words[:-2])"
   ]
  },
  {
   "cell_type": "code",
   "execution_count": 145,
   "metadata": {},
   "outputs": [
    {
     "name": "stdout",
     "output_type": "stream",
     "text": [
      "['My', 'Name', 'is', 'Alyona']\n"
     ]
    }
   ],
   "source": [
    "# or change a element in the list\n",
    "words[3] = \"Alyona\"\n",
    "print(words)"
   ]
  },
  {
   "cell_type": "code",
   "execution_count": 148,
   "metadata": {},
   "outputs": [
    {
     "name": "stdout",
     "output_type": "stream",
     "text": [
      "['My', 'Name', 'is', 4]\n"
     ]
    }
   ],
   "source": [
    "# or change the element to a number\n",
    "words[3] = 4\n",
    "print(words)"
   ]
  },
  {
   "cell_type": "markdown",
   "metadata": {},
   "source": [
    "You can also index strings, but strings you cannot change them because strings are immutable"
   ]
  },
  {
   "cell_type": "code",
   "execution_count": 129,
   "metadata": {},
   "outputs": [],
   "source": [
    "single_word = \"was\""
   ]
  },
  {
   "cell_type": "code",
   "execution_count": 131,
   "metadata": {},
   "outputs": [
    {
     "data": {
      "text/plain": [
       "'s'"
      ]
     },
     "execution_count": 131,
     "metadata": {},
     "output_type": "execute_result"
    }
   ],
   "source": [
    "single_word[2]"
   ]
  },
  {
   "cell_type": "code",
   "execution_count": 130,
   "metadata": {},
   "outputs": [
    {
     "ename": "TypeError",
     "evalue": "'str' object does not support item assignment",
     "output_type": "error",
     "traceback": [
      "\u001b[0;31m-------------------------------------------------------------------\u001b[0m",
      "\u001b[0;31mTypeError\u001b[0m                         Traceback (most recent call last)",
      "\u001b[0;32m<ipython-input-130-594c0e318d5d>\u001b[0m in \u001b[0;36m<module>\u001b[0;34m\u001b[0m\n\u001b[0;32m----> 1\u001b[0;31m \u001b[0msingle_word\u001b[0m\u001b[0;34m[\u001b[0m\u001b[0;36m2\u001b[0m\u001b[0;34m]\u001b[0m \u001b[0;34m=\u001b[0m \u001b[0;34m\"r\"\u001b[0m\u001b[0;34m\u001b[0m\u001b[0;34m\u001b[0m\u001b[0m\n\u001b[0m",
      "\u001b[0;31mTypeError\u001b[0m: 'str' object does not support item assignment"
     ]
    }
   ],
   "source": [
    "single_word[2] = \"r\""
   ]
  },
  {
   "cell_type": "markdown",
   "metadata": {},
   "source": [
    "# First steps towards programming: For loop"
   ]
  },
  {
   "cell_type": "code",
   "execution_count": 163,
   "metadata": {},
   "outputs": [],
   "source": [
    "wordlist = [\"first\", \"second\", \"third\"]\n",
    "wordset = {1, 2, 3}"
   ]
  },
  {
   "cell_type": "code",
   "execution_count": 164,
   "metadata": {},
   "outputs": [
    {
     "name": "stdout",
     "output_type": "stream",
     "text": [
      "first\n",
      "second\n",
      "third\n"
     ]
    }
   ],
   "source": [
    "for word in wordlist:\n",
    "    print(word)"
   ]
  },
  {
   "cell_type": "code",
   "execution_count": 165,
   "metadata": {},
   "outputs": [
    {
     "name": "stdout",
     "output_type": "stream",
     "text": [
      "first end\n",
      "second end\n",
      "third end\n"
     ]
    }
   ],
   "source": [
    "for word in wordlist:\n",
    "    print(word + \" end\")"
   ]
  },
  {
   "cell_type": "code",
   "execution_count": 172,
   "metadata": {},
   "outputs": [
    {
     "name": "stdout",
     "output_type": "stream",
     "text": [
      "2\n",
      "4\n",
      "6\n"
     ]
    }
   ],
   "source": [
    "for number in wordset:\n",
    "    print(number * 2)"
   ]
  },
  {
   "cell_type": "markdown",
   "metadata": {},
   "source": [
    "# Tips\n",
    "* Do not watch only, type something, make something, use comments #\n",
    "* Talk about your problems and bugs out loud (rubber ducking: https://en.wikipedia.org/wiki/Rubber_duck_debugging) - try to explain *WHY* your code is not working, believe us, you will solve more then you think with this technique\n",
    "* Take breaks!!\n",
    "* Program every day, only 15 minutes is enough, let your sleep do the rest\n",
    "* As question in a GOOD way\n",
    "\n",
    "\n",
    "# Questions\n",
    "* Asking Quetions: People always say there is no such thing as a bad question, but when it comes to programming, it is possible to ask a question badly. When you are asking for help from someone who has little or no context on the problem you are trying to solve, its best to ask GOOD questions by following this acronym:\n",
    "\n",
    "    * G: Give context on what you are trying to do, clearly describing the problem.\n",
    "    * O: Outline the things you have already tried to fix the issue.\n",
    "    * O: Offer your best guess as to what the problem might be. This helps the person who is helping you to not only know what you are thinking, but also know that you have done some thinking on your own.\n",
    "    * D: Demo what is happening. Include the code, a traceback error message, and an explanation of the steps you executed that resulted in the error. This way, the person helping does not have to try to recreate the issue.\n",
    "\n",
    "Good questions can save a lot of time. Skipping any of these steps can result in back-and-forth conversations that can cause conflict. As a beginner, you want to make sure you ask good questions so that you practice communicating your thought process, and so that people who help you will be happy to continue helping you\n",
    "\n",
    "# Read and learn more\n",
    "- Numbers: https://thepythonguru.com/python-numbers/\n",
    "- Strings: https://thepythonguru.com/python-strings/\n",
    "- Data types: https://thepythonguru.com/datatype-varibles/\n",
    "- Lists: https://thepythonguru.com/python-lists/\n",
    "- Tuples: https://thepythonguru.com/python-tuples/\n",
    "\n",
    "# Enrich your knowledge\n",
    "Learn about virtual enviroments with conda and version control with git and github\n",
    "\n",
    "How git works \n",
    "https://git-scm.com/book/en/v2 (focus on 1+2)\n",
    "\n",
    "Work with GitHub: \n",
    "https://guides.github.com/activities/hello-world/\n",
    "\n",
    "Try Git and GitHub yourself:\n",
    "https://www.youtube.com/watch?v=HVsySz-h9r4&t=307s\n",
    "\n",
    "Create your own virtual enviroments with conda: https://towardsdatascience.com/manage-your-python-virtual-environment-with-conda-a0d2934d5195\n",
    "\n",
    "Read blogs / write blogs:\n",
    "- www.Medium.com\n",
    "\n",
    "\n",
    "# Reminder \n",
    "- #bootcamp-help in pyladies slack, exept the invite!\n",
    "- We are here to help ask as many questions as you need (after googling ;-) )"
   ]
  },
  {
   "cell_type": "code",
   "execution_count": null,
   "metadata": {},
   "outputs": [],
   "source": []
  }
 ],
 "metadata": {
  "anaconda-cloud": {},
  "kernelspec": {
   "display_name": "Python 3",
   "language": "python",
   "name": "python3"
  },
  "language_info": {
   "codemirror_mode": {
    "name": "ipython",
    "version": 3
   },
   "file_extension": ".py",
   "mimetype": "text/x-python",
   "name": "python",
   "nbconvert_exporter": "python",
   "pygments_lexer": "ipython3",
   "version": "3.7.6"
  }
 },
 "nbformat": 4,
 "nbformat_minor": 1
}
