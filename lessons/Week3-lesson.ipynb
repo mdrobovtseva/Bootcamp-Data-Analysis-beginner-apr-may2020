{
 "cells": [
  {
   "cell_type": "markdown",
   "metadata": {},
   "source": [
    "# Agenda\n",
    "1. Recap: list and loops // Questions about assignment\n",
    "2. List comprehension\n",
    "3. Dictionaries\n",
    "4. Pandas datatypes\n",
    "5. Read data with Pandas\n",
    "6. Explore data with Pandas\n",
    "7. Work with missing values\n",
    "\n",
    "\n",
    "# List comprehension"
   ]
  },
  {
   "cell_type": "code",
   "execution_count": 1,
   "metadata": {},
   "outputs": [
    {
     "output_type": "stream",
     "name": "stdout",
     "text": "['WORDA', 'WORDB'] ['WORDA', 'WORDB']\n"
    }
   ],
   "source": [
    "my_list = ['wordA', 'wordB']\n",
    "\n",
    "#normal loop\n",
    "new_list1 = []\n",
    "for item in my_list:\n",
    "    new_list1.append(item.upper())\n",
    "\n",
    "#list comprehension\n",
    "new_list2 = [item.upper() for item in my_list]\n",
    "\n",
    "print(new_list1, new_list2)"
   ]
  },
  {
   "cell_type": "markdown",
   "metadata": {},
   "source": [
    "# Python dictionaries\n",
    "- Dictionary is a python datatype that is used to store key-value pairs. It enables you to quickly retrieve, add, remove, modify values using a key. Dictionary is very similar to what we call associative array or hash in other languages.\n",
    "- {} and seprated by ,\n",
    "\n",
    "Dictionaries and lists share the following characteristics:\n",
    "\n",
    "- Both are mutable (can be changed)\n",
    "- Both are dynamic. They can grow and shrink as needed.\n",
    "- Both can be nested. A list can contain another list. A dictionary can contain another dictionary. A dictionary can also contain a list, and vice versa.\n",
    "- Dictionaries differ from lists primarily in how elements are accessed:\n",
    "\n",
    "List elements are accessed by their position in the list, via indexing.\n",
    "Dictionary elements are accessed via keys."
   ]
  },
  {
   "cell_type": "code",
   "execution_count": 2,
   "metadata": {},
   "outputs": [],
   "source": [
    "mydict = {\"name\": \"Demi\",\n",
    "         \"birth_year\": 1994, \n",
    "          \"hobby\": \"programming\"}"
   ]
  },
  {
   "cell_type": "code",
   "execution_count": 3,
   "metadata": {},
   "outputs": [
    {
     "output_type": "stream",
     "name": "stdout",
     "text": "Demi\n"
    }
   ],
   "source": [
    "print(mydict['name'])"
   ]
  },
  {
   "cell_type": "code",
   "execution_count": 4,
   "metadata": {},
   "outputs": [
    {
     "output_type": "error",
     "ename": "KeyError",
     "evalue": "0",
     "traceback": [
      "\u001b[0;31m---------------------------------------------------------------------------\u001b[0m",
      "\u001b[0;31mKeyError\u001b[0m                                  Traceback (most recent call last)",
      "\u001b[0;32m<ipython-input-4-1529edbf7ad5>\u001b[0m in \u001b[0;36m<module>\u001b[0;34m\u001b[0m\n\u001b[0;32m----> 1\u001b[0;31m \u001b[0mmydict\u001b[0m\u001b[0;34m[\u001b[0m\u001b[0;36m0\u001b[0m\u001b[0;34m]\u001b[0m\u001b[0;34m\u001b[0m\u001b[0;34m\u001b[0m\u001b[0m\n\u001b[0m",
      "\u001b[0;31mKeyError\u001b[0m: 0"
     ]
    }
   ],
   "source": [
    "mydict[0]"
   ]
  },
  {
   "cell_type": "code",
   "execution_count": 5,
   "metadata": {},
   "outputs": [
    {
     "output_type": "execute_result",
     "data": {
      "text/plain": "dict_keys(['name', 'birth_year', 'hobby'])"
     },
     "metadata": {},
     "execution_count": 5
    }
   ],
   "source": [
    "mydict.keys()"
   ]
  },
  {
   "cell_type": "code",
   "execution_count": 6,
   "metadata": {},
   "outputs": [
    {
     "output_type": "execute_result",
     "data": {
      "text/plain": "dict_values(['Demi', 1994, 'programming'])"
     },
     "metadata": {},
     "execution_count": 6
    }
   ],
   "source": [
    "mydict.values()"
   ]
  },
  {
   "cell_type": "code",
   "execution_count": 7,
   "metadata": {},
   "outputs": [
    {
     "output_type": "stream",
     "name": "stdout",
     "text": "NAME\nBIRTH_YEAR\nHOBBY\n"
    }
   ],
   "source": [
    "for key, value in mydict.items():\n",
    "    print(key.upper())"
   ]
  },
  {
   "cell_type": "code",
   "execution_count": 8,
   "metadata": {},
   "outputs": [
    {
     "output_type": "stream",
     "name": "stdout",
     "text": "Demi\n1994\nprogramming\n"
    }
   ],
   "source": [
    "for item in mydict.values():\n",
    "    print(item)"
   ]
  },
  {
   "cell_type": "code",
   "execution_count": 9,
   "metadata": {},
   "outputs": [],
   "source": [
    "#change a value\n",
    "mydict['name'] = \"DeeJay\""
   ]
  },
  {
   "cell_type": "code",
   "execution_count": 10,
   "metadata": {},
   "outputs": [
    {
     "output_type": "execute_result",
     "data": {
      "text/plain": "dict_items([('name', 'DeeJay'), ('birth_year', 1994), ('hobby', 'programming')])"
     },
     "metadata": {},
     "execution_count": 10
    }
   ],
   "source": [
    "mydict.items()"
   ]
  },
  {
   "cell_type": "code",
   "execution_count": 11,
   "metadata": {},
   "outputs": [],
   "source": [
    "# dictonaries can contain any data type\n",
    "mydict = {\"names\": [\"Demi\", \"DeeJay\"],\n",
    "         \"birth_year\": 1994, \n",
    "         \"hobby\": [\"programming\", \"yoga\", \"drinking wine\"]}"
   ]
  },
  {
   "cell_type": "code",
   "execution_count": null,
   "metadata": {},
   "outputs": [],
   "source": []
  },
  {
   "cell_type": "markdown",
   "metadata": {},
   "source": [
    "# Exercise\n",
    "- Create a dictionary about yourself, list at least 2 hobbies\n",
    "- Print only your second hobby\n",
    "- What is your birth_year?"
   ]
  },
  {
   "cell_type": "code",
   "execution_count": null,
   "metadata": {},
   "outputs": [],
   "source": []
  },
  {
   "cell_type": "code",
   "execution_count": null,
   "metadata": {},
   "outputs": [],
   "source": []
  },
  {
   "cell_type": "markdown",
   "metadata": {},
   "source": [
    "# Pandas\n",
    "- Pandas stands for “Python Data Analysis Library\"\n",
    "- pandas is a fast, powerful, flexible and easy to use open source data analysis and manipulation tool, it takes data (like a CSV or TSV file, or a SQL database) and creates a Python object with rows and columns called dataframe that looks very similar to table in a statistical software (think Excel or SPSS for example). \n",
    "- similar to R\n",
    "- pandas is a libary or module, therefore if we want to use it, we need to instal and import it. You can make use of the functions that are defined in the module by calling them with . (dot), like you did with list.split() or string.strip()"
   ]
  },
  {
   "cell_type": "code",
   "execution_count": 1,
   "metadata": {},
   "outputs": [
    {
     "output_type": "stream",
     "name": "stdout",
     "text": "Collecting package metadata (current_repodata.jsodone\nSolving envidone\n\n## Package Plan ##\n\n  environment location: /usr/local/Caskroom/miniconda/base/envs/testj\n\n  added / updated specs:\n    - pandas\n\n\nThe following NEW packages will be INSTALLED:\n\n  blas               pkgs/main/osx-64::blas-1.0-mkl\n  intel-openmp       pkgs/main/osx-64::intel-openmp-2020.1-216\n  libgfortran        pkgs/main/osx-64::libgfortran-3.0.1-h93005f0_2\n  mkl                pkgs/main/osx-64::mkl-2019.4-233\n  mkl-service        pkgs/main/osx-64::mkl-service-2.3.0-py37hfbe908c_0\n  mkl_fft            pkgs/main/osx-64::mkl_fft-1.0.15-py37h5e564d8_0\n  mkl_random         pkgs/main/osx-64::mkl_random-1.1.0-py37ha771720_0\n  numpy              pkgs/main/osx-64::numpy-1.18.1-py37h7241aed_0\n  numpy-base         pkgs/main/osx-64::numpy-base-1.18.1-py37h6575580_1\n  pandas             pkgs/main/osx-64::pandas-1.0.3-py37h6c726b0_0\n  pytz               pkgs/main/noarch::pytz-2020.1-py_0\n\n\nPreparing transaction:done\nVerifying transact| WARNING conda.core.path_actions:verify(963): Unable to create environments file. Path not writable.\n  environment location: /Users/alyonagalyeva/.conda/environments.txt\n\ndone\nExecut\\ WARNING conda.core.envs_manager:register_env(52): Unable to register environment. Path not writable or missing.\n  environment location: /usr/local/Caskroom/miniconda/base/envs/testj\n  registry file: /Users/alyonagalyeva/.conda/environments.txt\ndone\n"
    }
   ],
   "source": [
    "# Install a conda package in the current Jupyter kernel\n",
    "import sys\n",
    "!conda install --yes --prefix {sys.prefix} pandas"
   ]
  },
  {
   "cell_type": "code",
   "execution_count": 12,
   "metadata": {},
   "outputs": [],
   "source": []
  },
  {
   "cell_type": "markdown",
   "metadata": {},
   "source": [
    "- after the installation we need to import the libary, you need to do import for every Jupyter notebook. \n",
    "- `as pd` is an alias, if you do not do 'as' you will have to type pandas everytime. Programmers are lazy, so we use shortcuts such as pd "
   ]
  },
  {
   "cell_type": "code",
   "execution_count": 2,
   "metadata": {},
   "outputs": [],
   "source": [
    "import pandas as pd"
   ]
  },
  {
   "cell_type": "markdown",
   "metadata": {},
   "source": [
    "# Pandas datatypes\n",
    "There are two core objects in Pandas: the DataFrame and the Series.\n",
    "\n",
    "### Series\n",
    "Pandas Series is a one-dimensional labeled array, capable of holding data of any type (integer, string, float, python objects, etc.). The axis labels are collectively called index. Pandas Series is nothing, but a column in an Excel sheet. Like in Excel every row in the sheet has \n",
    "- an index\n",
    "- a value or datapoint (if you entered a value)\n",
    "\n",
    "<img src=\"data/images/series-index.png\" width=\"300\"/>\n",
    "\n",
    "**img from: https://codechalleng.es/bites/251/\n",
    "\n",
    "*** Did we already told you, you can do amazing stuff with markdown? https://about.gitlab.com/handbook/markdown-guide/"
   ]
  },
  {
   "cell_type": "code",
   "execution_count": 3,
   "metadata": {},
   "outputs": [
    {
     "output_type": "error",
     "ename": "NameError",
     "evalue": "name 'data' is not defined",
     "traceback": [
      "\u001b[0;31m---------------------------------------------------------------------------\u001b[0m",
      "\u001b[0;31mNameError\u001b[0m                                 Traceback (most recent call last)",
      "\u001b[0;32m<ipython-input-3-9507d2356142>\u001b[0m in \u001b[0;36m<module>\u001b[0;34m\u001b[0m\n\u001b[1;32m      1\u001b[0m \u001b[0;31m# assign the variable s to Series\u001b[0m\u001b[0;34m\u001b[0m\u001b[0;34m\u001b[0m\u001b[0;34m\u001b[0m\u001b[0m\n\u001b[0;32m----> 2\u001b[0;31m \u001b[0ms\u001b[0m \u001b[0;34m=\u001b[0m \u001b[0mpd\u001b[0m\u001b[0;34m.\u001b[0m\u001b[0mSeries\u001b[0m\u001b[0;34m(\u001b[0m\u001b[0mdata\u001b[0m\u001b[0;34m,\u001b[0m \u001b[0mindex\u001b[0m\u001b[0;34m=\u001b[0m\u001b[0mindex\u001b[0m\u001b[0;34m)\u001b[0m\u001b[0;34m\u001b[0m\u001b[0;34m\u001b[0m\u001b[0m\n\u001b[0m",
      "\u001b[0;31mNameError\u001b[0m: name 'data' is not defined"
     ]
    }
   ],
   "source": [
    "# assign the variable s to Series\n",
    "s = pd.Series(data, index=index)"
   ]
  },
  {
   "cell_type": "code",
   "execution_count": 4,
   "metadata": {},
   "outputs": [],
   "source": [
    "# lets define data\n",
    "data = [2,4,6,5]"
   ]
  },
  {
   "cell_type": "code",
   "execution_count": 6,
   "metadata": {},
   "outputs": [
    {
     "output_type": "error",
     "ename": "NameError",
     "evalue": "name 'index' is not defined",
     "traceback": [
      "\u001b[0;31m---------------------------------------------------------------------------\u001b[0m",
      "\u001b[0;31mNameError\u001b[0m                                 Traceback (most recent call last)",
      "\u001b[0;32m<ipython-input-6-ca8343915652>\u001b[0m in \u001b[0;36m<module>\u001b[0;34m\u001b[0m\n\u001b[1;32m      1\u001b[0m \u001b[0;31m# lets try it again\u001b[0m\u001b[0;34m\u001b[0m\u001b[0;34m\u001b[0m\u001b[0;34m\u001b[0m\u001b[0m\n\u001b[0;32m----> 2\u001b[0;31m \u001b[0ms\u001b[0m \u001b[0;34m=\u001b[0m \u001b[0mpd\u001b[0m\u001b[0;34m.\u001b[0m\u001b[0mSeries\u001b[0m\u001b[0;34m(\u001b[0m\u001b[0mdata\u001b[0m\u001b[0;34m,\u001b[0m \u001b[0mindex\u001b[0m\u001b[0;34m=\u001b[0m\u001b[0mindex\u001b[0m\u001b[0;34m)\u001b[0m\u001b[0;34m\u001b[0m\u001b[0;34m\u001b[0m\u001b[0m\n\u001b[0m",
      "\u001b[0;31mNameError\u001b[0m: name 'index' is not defined"
     ]
    }
   ],
   "source": [
    "# lets try it again\n",
    "s = pd.Series(data, index=index)"
   ]
  },
  {
   "cell_type": "code",
   "execution_count": 7,
   "metadata": {},
   "outputs": [],
   "source": [
    "# we need to have the same amount of indexes as data points\n",
    "my_index = [0,1,2,3]"
   ]
  },
  {
   "cell_type": "code",
   "execution_count": 8,
   "metadata": {},
   "outputs": [
    {
     "output_type": "execute_result",
     "data": {
      "text/plain": "0    2\n1    4\n2    6\n3    5\ndtype: int64"
     },
     "metadata": {},
     "execution_count": 8
    }
   ],
   "source": [
    "# try to change my_index\n",
    "pd.Series(data, index=my_index)"
   ]
  },
  {
   "cell_type": "markdown",
   "metadata": {},
   "source": [
    "# Exercise\n",
    "How can you use python functions to define the index? Remember, you're lazy!\n",
    "- Hint: \n",
    "    - Length of the data and the index needs to be the same\n",
    "    - Have you used the range function before?"
   ]
  },
  {
   "cell_type": "code",
   "execution_count": null,
   "metadata": {},
   "outputs": [],
   "source": []
  },
  {
   "cell_type": "markdown",
   "metadata": {},
   "source": [
    "### DataFrame\n",
    "A DataFrame is a table. It contains an array of individual entries, each of which has a certain value. Each entry corresponds to a row (or record) and a column.\n",
    "- not limited to integers also strings \n",
    "\n",
    "<img src=\"data/images/Dataframe-expl.png\" width=\"500\"/>\n",
    "<img src=\"data/images/Dataframe.png\" width=\"500\"/>\n",
    "\n",
    "** image from = https://www.geeksforgeeks.org/ and https://www.learndatasci.com/\n",
    "For example, consider the following simple DataFrame"
   ]
  },
  {
   "cell_type": "code",
   "execution_count": 9,
   "metadata": {},
   "outputs": [
    {
     "output_type": "execute_result",
     "data": {
      "text/plain": "   Yes  No\n0   53  13\n1   21   1",
      "text/html": "<div>\n<style scoped>\n    .dataframe tbody tr th:only-of-type {\n        vertical-align: middle;\n    }\n\n    .dataframe tbody tr th {\n        vertical-align: top;\n    }\n\n    .dataframe thead th {\n        text-align: right;\n    }\n</style>\n<table border=\"1\" class=\"dataframe\">\n  <thead>\n    <tr style=\"text-align: right;\">\n      <th></th>\n      <th>Yes</th>\n      <th>No</th>\n    </tr>\n  </thead>\n  <tbody>\n    <tr>\n      <th>0</th>\n      <td>53</td>\n      <td>13</td>\n    </tr>\n    <tr>\n      <th>1</th>\n      <td>21</td>\n      <td>1</td>\n    </tr>\n  </tbody>\n</table>\n</div>"
     },
     "metadata": {},
     "execution_count": 9
    }
   ],
   "source": [
    "df_with_numbers = pd.DataFrame({'Yes': [53, 21], 'No': [13, 1]})\n",
    "df_with_numbers"
   ]
  },
  {
   "cell_type": "code",
   "execution_count": 11,
   "metadata": {},
   "outputs": [
    {
     "output_type": "execute_result",
     "data": {
      "text/plain": "             Bob           Sue\n0    I liked it.  Pretty good.\n1  It was awful.       Boring.",
      "text/html": "<div>\n<style scoped>\n    .dataframe tbody tr th:only-of-type {\n        vertical-align: middle;\n    }\n\n    .dataframe tbody tr th {\n        vertical-align: top;\n    }\n\n    .dataframe thead th {\n        text-align: right;\n    }\n</style>\n<table border=\"1\" class=\"dataframe\">\n  <thead>\n    <tr style=\"text-align: right;\">\n      <th></th>\n      <th>Bob</th>\n      <th>Sue</th>\n    </tr>\n  </thead>\n  <tbody>\n    <tr>\n      <th>0</th>\n      <td>I liked it.</td>\n      <td>Pretty good.</td>\n    </tr>\n    <tr>\n      <th>1</th>\n      <td>It was awful.</td>\n      <td>Boring.</td>\n    </tr>\n  </tbody>\n</table>\n</div>"
     },
     "metadata": {},
     "execution_count": 11
    }
   ],
   "source": [
    "pd.DataFrame({'Bob': ['I liked it.', 'It was awful.'], 'Sue': ['Pretty good.', 'Boring.']})"
   ]
  },
  {
   "cell_type": "markdown",
   "metadata": {},
   "source": [
    "# Read data\n",
    "Being able to create a DataFrame or Series manually is handy. But, most of the time, we won't actually create our own data manually. Instead, we'll be working with data that already exists.\n",
    "\n",
    "Data can be stored in any number of different forms and formats. By far the most basic is a CSV file. When you open a CSV file you get something that looks like this:\n",
    "\n",
    "Product A,Product B,Product C,\n",
    "30,21,9,\n",
    "35,34,1,\n",
    "41,11,11\n",
    "\n",
    "Download data from Kaggle or take a look at this data descriprion:\n",
    "https://www.kaggle.com/kimjihoo/ds4c-what-is-this-dataset-detailed-description"
   ]
  },
  {
   "cell_type": "code",
   "execution_count": 12,
   "metadata": {},
   "outputs": [],
   "source": [
    "# read the data and store it in df variable\n",
    "path = 'data/coronavirusdataset/Case.csv'\n",
    "df = pd.read_csv(path)"
   ]
  },
  {
   "cell_type": "markdown",
   "metadata": {},
   "source": [
    "# Viewing and Inspecting Data\n",
    "Now that you’ve loaded your data, it’s time to take a look at it. How does the dataframe look like? Running the name of the data frame would give you the entire table, but you can also use functions"
   ]
  },
  {
   "cell_type": "code",
   "execution_count": 13,
   "metadata": {},
   "outputs": [
    {
     "output_type": "execute_result",
     "data": {
      "text/plain": "   case_id province           city  group                 infection_case  \\\n0  1000001    Seoul        Guro-gu   True            Guro-gu Call Center   \n1  1000002    Seoul  Dongdaemun-gu   True                  Dongan Church   \n2  1000003    Seoul        Guro-gu   True          Manmin Central Church   \n3  1000004    Seoul   Eunpyeong-gu   True  Eunpyeong St. Mary's Hospital   \n4  1000005    Seoul   Seongdong-gu   True               Seongdong-gu APT   \n\n   confirmed   latitude   longitude  \n0         98  37.508163  126.884387  \n1         20  37.592888  127.056766  \n2         41  37.481059  126.894343  \n3         14   37.63369    126.9165  \n4         13   37.55713    127.0403  ",
      "text/html": "<div>\n<style scoped>\n    .dataframe tbody tr th:only-of-type {\n        vertical-align: middle;\n    }\n\n    .dataframe tbody tr th {\n        vertical-align: top;\n    }\n\n    .dataframe thead th {\n        text-align: right;\n    }\n</style>\n<table border=\"1\" class=\"dataframe\">\n  <thead>\n    <tr style=\"text-align: right;\">\n      <th></th>\n      <th>case_id</th>\n      <th>province</th>\n      <th>city</th>\n      <th>group</th>\n      <th>infection_case</th>\n      <th>confirmed</th>\n      <th>latitude</th>\n      <th>longitude</th>\n    </tr>\n  </thead>\n  <tbody>\n    <tr>\n      <th>0</th>\n      <td>1000001</td>\n      <td>Seoul</td>\n      <td>Guro-gu</td>\n      <td>True</td>\n      <td>Guro-gu Call Center</td>\n      <td>98</td>\n      <td>37.508163</td>\n      <td>126.884387</td>\n    </tr>\n    <tr>\n      <th>1</th>\n      <td>1000002</td>\n      <td>Seoul</td>\n      <td>Dongdaemun-gu</td>\n      <td>True</td>\n      <td>Dongan Church</td>\n      <td>20</td>\n      <td>37.592888</td>\n      <td>127.056766</td>\n    </tr>\n    <tr>\n      <th>2</th>\n      <td>1000003</td>\n      <td>Seoul</td>\n      <td>Guro-gu</td>\n      <td>True</td>\n      <td>Manmin Central Church</td>\n      <td>41</td>\n      <td>37.481059</td>\n      <td>126.894343</td>\n    </tr>\n    <tr>\n      <th>3</th>\n      <td>1000004</td>\n      <td>Seoul</td>\n      <td>Eunpyeong-gu</td>\n      <td>True</td>\n      <td>Eunpyeong St. Mary's Hospital</td>\n      <td>14</td>\n      <td>37.63369</td>\n      <td>126.9165</td>\n    </tr>\n    <tr>\n      <th>4</th>\n      <td>1000005</td>\n      <td>Seoul</td>\n      <td>Seongdong-gu</td>\n      <td>True</td>\n      <td>Seongdong-gu APT</td>\n      <td>13</td>\n      <td>37.55713</td>\n      <td>127.0403</td>\n    </tr>\n  </tbody>\n</table>\n</div>"
     },
     "metadata": {},
     "execution_count": 13
    }
   ],
   "source": [
    "# get the first n rows with df.head(n), or the last n rows with df.tail(n)\n",
    "df.head()"
   ]
  },
  {
   "cell_type": "code",
   "execution_count": 14,
   "metadata": {},
   "outputs": [
    {
     "output_type": "execute_result",
     "data": {
      "text/plain": "112"
     },
     "metadata": {},
     "execution_count": 14
    }
   ],
   "source": [
    "len(df)"
   ]
  },
  {
   "cell_type": "code",
   "execution_count": 15,
   "metadata": {},
   "outputs": [
    {
     "output_type": "execute_result",
     "data": {
      "text/plain": "(112, 8)"
     },
     "metadata": {},
     "execution_count": 15
    }
   ],
   "source": [
    "# check the number of rows and columns\n",
    "df.shape"
   ]
  },
  {
   "cell_type": "code",
   "execution_count": 16,
   "metadata": {},
   "outputs": [
    {
     "output_type": "stream",
     "name": "stdout",
     "text": "<class 'pandas.core.frame.DataFrame'>\nRangeIndex: 112 entries, 0 to 111\nData columns (total 8 columns):\n #   Column          Non-Null Count  Dtype \n---  ------          --------------  ----- \n 0   case_id         112 non-null    int64 \n 1   province        112 non-null    object\n 2   city            112 non-null    object\n 3   group           112 non-null    bool  \n 4   infection_case  112 non-null    object\n 5   confirmed       112 non-null    int64 \n 6   latitude        112 non-null    object\n 7   longitude       112 non-null    object\ndtypes: bool(1), int64(2), object(5)\nmemory usage: 6.4+ KB\n"
    }
   ],
   "source": [
    "# important to check non-null values\n",
    "df.info()"
   ]
  },
  {
   "cell_type": "code",
   "execution_count": 17,
   "metadata": {},
   "outputs": [
    {
     "output_type": "execute_result",
     "data": {
      "text/plain": "Index(['case_id', 'province', 'city', 'group', 'infection_case', 'confirmed',\n       'latitude', 'longitude'],\n      dtype='object')"
     },
     "metadata": {},
     "execution_count": 17
    }
   ],
   "source": [
    "# check only the columns\n",
    "df.columns"
   ]
  },
  {
   "cell_type": "code",
   "execution_count": 18,
   "metadata": {},
   "outputs": [
    {
     "output_type": "execute_result",
     "data": {
      "text/plain": "0       True\n1       True\n2       True\n3       True\n4       True\n       ...  \n107    False\n108    False\n109    False\n110    False\n111    False\nName: group, Length: 112, dtype: bool"
     },
     "metadata": {},
     "execution_count": 18
    }
   ],
   "source": [
    "df.group\n",
    "#df['group']"
   ]
  },
  {
   "cell_type": "code",
   "execution_count": 19,
   "metadata": {},
   "outputs": [
    {
     "output_type": "execute_result",
     "data": {
      "text/plain": "count     112\nunique     34\ntop         -\nfreq       50\nName: city, dtype: object"
     },
     "metadata": {},
     "execution_count": 19
    }
   ],
   "source": [
    "df['city'].describe()"
   ]
  },
  {
   "cell_type": "code",
   "execution_count": 20,
   "metadata": {},
   "outputs": [
    {
     "output_type": "execute_result",
     "data": {
      "text/plain": "array(['Seoul', 'Busan', 'Daegu', 'Gwangju', 'Incheon', 'Daejeon',\n       'Ulsan', 'Sejong', 'Gyeonggi-do', 'Gangwon-do',\n       'Chungcheongbuk-do', 'Chungcheongnam-do', 'Jeollabuk-do',\n       'Jeollanam-do', 'Gyeongsangbuk-do', 'Gyeongsangnam-do', 'Jeju-do'],\n      dtype=object)"
     },
     "metadata": {},
     "execution_count": 20
    }
   ],
   "source": [
    "df['province'].unique()"
   ]
  },
  {
   "cell_type": "code",
   "execution_count": 21,
   "metadata": {},
   "outputs": [
    {
     "data": {
      "text/plain": [
       "-                  50\n",
       "from other city    22\n",
       "Gyeongsan-si        3\n",
       "Sejong              2\n",
       "Guro-gu             2\n",
       "Geochang-gun        2\n",
       "Seo-gu              2\n",
       "Dalseong-gun        2\n",
       "Seongnam-si         2\n",
       "Cheongdo-gun        1\n",
       "Suwon-si            1\n",
       "Seosan-si           1\n",
       "Nam-gu              1\n",
       "Eunpyeong-gu        1\n",
       "Wonju-si            1\n",
       "Dongnae-gu          1\n",
       "Dongdaemun-gu       1\n",
       "Seongdong-gu        1\n",
       "Jin-gu              1\n",
       "Bonghwa-gun         1\n",
       "Jongno-gu           1\n",
       "Suyeong-gu          1\n",
       "Changwon-si         1\n",
       "Cheonan-si          1\n",
       "Jinju-si            1\n",
       "Uijeongbu-si        1\n",
       "Yechun-gun          1\n",
       "Haeundae-gu         1\n",
       "Dong-gu             1\n",
       "Jung-gu             1\n",
       "Goesan-gun          1\n",
       "Muan-gun            1\n",
       "Changnyeong-gun     1\n",
       "Chilgok-gun         1\n",
       "Name: city, dtype: int64"
      ]
     },
     "execution_count": 21,
     "metadata": {},
     "output_type": "execute_result"
    }
   ],
   "source": [
    "# view unique values and counts for a series (like a column or a few columns)\n",
    "df['city'].value_counts()"
   ]
  },
  {
   "cell_type": "markdown",
   "metadata": {},
   "source": [
    "# Exercise\n",
    "1. How many individual provinces does this dataset contain?\n",
    "2. Display the top three MENTIONED provinces"
   ]
  },
  {
   "cell_type": "code",
   "execution_count": null,
   "metadata": {},
   "outputs": [],
   "source": []
  },
  {
   "cell_type": "markdown",
   "metadata": {},
   "source": [
    "# Slices"
   ]
  },
  {
   "cell_type": "code",
   "execution_count": 21,
   "metadata": {},
   "outputs": [
    {
     "output_type": "execute_result",
     "data": {
      "text/plain": "   case_id province           city  group                 infection_case  \\\n1  1000002    Seoul  Dongdaemun-gu   True                  Dongan Church   \n2  1000003    Seoul        Guro-gu   True          Manmin Central Church   \n3  1000004    Seoul   Eunpyeong-gu   True  Eunpyeong St. Mary's Hospital   \n\n   confirmed   latitude   longitude  \n1         20  37.592888  127.056766  \n2         41  37.481059  126.894343  \n3         14   37.63369    126.9165  ",
      "text/html": "<div>\n<style scoped>\n    .dataframe tbody tr th:only-of-type {\n        vertical-align: middle;\n    }\n\n    .dataframe tbody tr th {\n        vertical-align: top;\n    }\n\n    .dataframe thead th {\n        text-align: right;\n    }\n</style>\n<table border=\"1\" class=\"dataframe\">\n  <thead>\n    <tr style=\"text-align: right;\">\n      <th></th>\n      <th>case_id</th>\n      <th>province</th>\n      <th>city</th>\n      <th>group</th>\n      <th>infection_case</th>\n      <th>confirmed</th>\n      <th>latitude</th>\n      <th>longitude</th>\n    </tr>\n  </thead>\n  <tbody>\n    <tr>\n      <th>1</th>\n      <td>1000002</td>\n      <td>Seoul</td>\n      <td>Dongdaemun-gu</td>\n      <td>True</td>\n      <td>Dongan Church</td>\n      <td>20</td>\n      <td>37.592888</td>\n      <td>127.056766</td>\n    </tr>\n    <tr>\n      <th>2</th>\n      <td>1000003</td>\n      <td>Seoul</td>\n      <td>Guro-gu</td>\n      <td>True</td>\n      <td>Manmin Central Church</td>\n      <td>41</td>\n      <td>37.481059</td>\n      <td>126.894343</td>\n    </tr>\n    <tr>\n      <th>3</th>\n      <td>1000004</td>\n      <td>Seoul</td>\n      <td>Eunpyeong-gu</td>\n      <td>True</td>\n      <td>Eunpyeong St. Mary's Hospital</td>\n      <td>14</td>\n      <td>37.63369</td>\n      <td>126.9165</td>\n    </tr>\n  </tbody>\n</table>\n</div>"
     },
     "metadata": {},
     "execution_count": 21
    }
   ],
   "source": [
    "df[1:4]"
   ]
  },
  {
   "cell_type": "code",
   "execution_count": 22,
   "metadata": {},
   "outputs": [
    {
     "output_type": "execute_result",
     "data": {
      "text/plain": "   case_id province     city  group         infection_case  confirmed  \\\n0  1000001    Seoul  Guro-gu   True    Guro-gu Call Center         98   \n2  1000003    Seoul  Guro-gu   True  Manmin Central Church         41   \n\n    latitude   longitude  \n0  37.508163  126.884387  \n2  37.481059  126.894343  ",
      "text/html": "<div>\n<style scoped>\n    .dataframe tbody tr th:only-of-type {\n        vertical-align: middle;\n    }\n\n    .dataframe tbody tr th {\n        vertical-align: top;\n    }\n\n    .dataframe thead th {\n        text-align: right;\n    }\n</style>\n<table border=\"1\" class=\"dataframe\">\n  <thead>\n    <tr style=\"text-align: right;\">\n      <th></th>\n      <th>case_id</th>\n      <th>province</th>\n      <th>city</th>\n      <th>group</th>\n      <th>infection_case</th>\n      <th>confirmed</th>\n      <th>latitude</th>\n      <th>longitude</th>\n    </tr>\n  </thead>\n  <tbody>\n    <tr>\n      <th>0</th>\n      <td>1000001</td>\n      <td>Seoul</td>\n      <td>Guro-gu</td>\n      <td>True</td>\n      <td>Guro-gu Call Center</td>\n      <td>98</td>\n      <td>37.508163</td>\n      <td>126.884387</td>\n    </tr>\n    <tr>\n      <th>2</th>\n      <td>1000003</td>\n      <td>Seoul</td>\n      <td>Guro-gu</td>\n      <td>True</td>\n      <td>Manmin Central Church</td>\n      <td>41</td>\n      <td>37.481059</td>\n      <td>126.894343</td>\n    </tr>\n  </tbody>\n</table>\n</div>"
     },
     "metadata": {},
     "execution_count": 22
    }
   ],
   "source": [
    "cases_in_gurogu = df[df.city == 'Guro-gu']\n",
    "cases_in_gurogu"
   ]
  },
  {
   "cell_type": "code",
   "execution_count": 23,
   "metadata": {},
   "outputs": [
    {
     "output_type": "execute_result",
     "data": {
      "text/plain": "9794"
     },
     "metadata": {},
     "execution_count": 23
    }
   ],
   "source": [
    "df.confirmed.sum()"
   ]
  },
  {
   "cell_type": "markdown",
   "metadata": {},
   "source": [
    "# Exercise\n",
    "1. How many confirmed cases are there in Eunpyeong-gu ?"
   ]
  },
  {
   "cell_type": "code",
   "execution_count": null,
   "metadata": {},
   "outputs": [],
   "source": []
  },
  {
   "cell_type": "markdown",
   "metadata": {},
   "source": [
    "# Missing data\n",
    "Entries with missing values are given the value NaN, short for \"Not a Number\". For technical reasons these NaN values are always float64 dtype.\n",
    "\n",
    "### Copying dataframe\n",
    "In Pandas, indexing a DataFrame returns a reference to the initial DataFrame. By changing the subset we change the initial DataFrame. Thus, you'd want to use the copy if you want to make sure the initial DataFrame shouldn't be changed. Consider the following code:"
   ]
  },
  {
   "cell_type": "code",
   "execution_count": 24,
   "metadata": {},
   "outputs": [],
   "source": [
    "# index, column\n",
    "missing_data_df = df.copy()"
   ]
  },
  {
   "cell_type": "code",
   "execution_count": 25,
   "metadata": {},
   "outputs": [
    {
     "output_type": "execute_result",
     "data": {
      "text/plain": "     case_id          province           city  group  \\\n0    1000001             Seoul        Guro-gu   True   \n1    1000002             Seoul  Dongdaemun-gu   True   \n2    1000003             Seoul        Guro-gu   True   \n3    1000004             Seoul   Eunpyeong-gu   True   \n4    1000005             Seoul   Seongdong-gu   True   \n..       ...               ...            ...    ...   \n107  6100009  Gyeongsangnam-do              -  False   \n108  6100010  Gyeongsangnam-do              -  False   \n109  7000001           Jeju-do              -  False   \n110  7000002           Jeju-do              -  False   \n111  7000003           Jeju-do              -  False   \n\n                    infection_case  confirmed   latitude   longitude  \n0              Guro-gu Call Center         98  37.508163  126.884387  \n1                    Dongan Church         20  37.592888  127.056766  \n2            Manmin Central Church         41  37.481059  126.894343  \n3    Eunpyeong St. Mary's Hospital         14   37.63369    126.9165  \n4                 Seongdong-gu APT         13   37.55713    127.0403  \n..                             ...        ...        ...         ...  \n107           contact with patient          6          -           -  \n108                            etc         18          -           -  \n109                overseas inflow          9          -           -  \n110           contact with patient          0          -           -  \n111                            etc          4          -           -  \n\n[112 rows x 8 columns]",
      "text/html": "<div>\n<style scoped>\n    .dataframe tbody tr th:only-of-type {\n        vertical-align: middle;\n    }\n\n    .dataframe tbody tr th {\n        vertical-align: top;\n    }\n\n    .dataframe thead th {\n        text-align: right;\n    }\n</style>\n<table border=\"1\" class=\"dataframe\">\n  <thead>\n    <tr style=\"text-align: right;\">\n      <th></th>\n      <th>case_id</th>\n      <th>province</th>\n      <th>city</th>\n      <th>group</th>\n      <th>infection_case</th>\n      <th>confirmed</th>\n      <th>latitude</th>\n      <th>longitude</th>\n    </tr>\n  </thead>\n  <tbody>\n    <tr>\n      <th>0</th>\n      <td>1000001</td>\n      <td>Seoul</td>\n      <td>Guro-gu</td>\n      <td>True</td>\n      <td>Guro-gu Call Center</td>\n      <td>98</td>\n      <td>37.508163</td>\n      <td>126.884387</td>\n    </tr>\n    <tr>\n      <th>1</th>\n      <td>1000002</td>\n      <td>Seoul</td>\n      <td>Dongdaemun-gu</td>\n      <td>True</td>\n      <td>Dongan Church</td>\n      <td>20</td>\n      <td>37.592888</td>\n      <td>127.056766</td>\n    </tr>\n    <tr>\n      <th>2</th>\n      <td>1000003</td>\n      <td>Seoul</td>\n      <td>Guro-gu</td>\n      <td>True</td>\n      <td>Manmin Central Church</td>\n      <td>41</td>\n      <td>37.481059</td>\n      <td>126.894343</td>\n    </tr>\n    <tr>\n      <th>3</th>\n      <td>1000004</td>\n      <td>Seoul</td>\n      <td>Eunpyeong-gu</td>\n      <td>True</td>\n      <td>Eunpyeong St. Mary's Hospital</td>\n      <td>14</td>\n      <td>37.63369</td>\n      <td>126.9165</td>\n    </tr>\n    <tr>\n      <th>4</th>\n      <td>1000005</td>\n      <td>Seoul</td>\n      <td>Seongdong-gu</td>\n      <td>True</td>\n      <td>Seongdong-gu APT</td>\n      <td>13</td>\n      <td>37.55713</td>\n      <td>127.0403</td>\n    </tr>\n    <tr>\n      <th>...</th>\n      <td>...</td>\n      <td>...</td>\n      <td>...</td>\n      <td>...</td>\n      <td>...</td>\n      <td>...</td>\n      <td>...</td>\n      <td>...</td>\n    </tr>\n    <tr>\n      <th>107</th>\n      <td>6100009</td>\n      <td>Gyeongsangnam-do</td>\n      <td>-</td>\n      <td>False</td>\n      <td>contact with patient</td>\n      <td>6</td>\n      <td>-</td>\n      <td>-</td>\n    </tr>\n    <tr>\n      <th>108</th>\n      <td>6100010</td>\n      <td>Gyeongsangnam-do</td>\n      <td>-</td>\n      <td>False</td>\n      <td>etc</td>\n      <td>18</td>\n      <td>-</td>\n      <td>-</td>\n    </tr>\n    <tr>\n      <th>109</th>\n      <td>7000001</td>\n      <td>Jeju-do</td>\n      <td>-</td>\n      <td>False</td>\n      <td>overseas inflow</td>\n      <td>9</td>\n      <td>-</td>\n      <td>-</td>\n    </tr>\n    <tr>\n      <th>110</th>\n      <td>7000002</td>\n      <td>Jeju-do</td>\n      <td>-</td>\n      <td>False</td>\n      <td>contact with patient</td>\n      <td>0</td>\n      <td>-</td>\n      <td>-</td>\n    </tr>\n    <tr>\n      <th>111</th>\n      <td>7000003</td>\n      <td>Jeju-do</td>\n      <td>-</td>\n      <td>False</td>\n      <td>etc</td>\n      <td>4</td>\n      <td>-</td>\n      <td>-</td>\n    </tr>\n  </tbody>\n</table>\n<p>112 rows × 8 columns</p>\n</div>"
     },
     "metadata": {},
     "execution_count": 25
    }
   ],
   "source": [
    "missing_data_df"
   ]
  },
  {
   "cell_type": "code",
   "execution_count": 26,
   "metadata": {},
   "outputs": [],
   "source": [
    "# create missing values\n",
    "missing_data_df.at[0, 'confirmed'] = None"
   ]
  },
  {
   "cell_type": "code",
   "execution_count": 32,
   "metadata": {},
   "outputs": [
    {
     "data": {
      "text/html": [
       "<div>\n",
       "<style scoped>\n",
       "    .dataframe tbody tr th:only-of-type {\n",
       "        vertical-align: middle;\n",
       "    }\n",
       "\n",
       "    .dataframe tbody tr th {\n",
       "        vertical-align: top;\n",
       "    }\n",
       "\n",
       "    .dataframe thead th {\n",
       "        text-align: right;\n",
       "    }\n",
       "</style>\n",
       "<table border=\"1\" class=\"dataframe\">\n",
       "  <thead>\n",
       "    <tr style=\"text-align: right;\">\n",
       "      <th></th>\n",
       "      <th>case_id</th>\n",
       "      <th>province</th>\n",
       "      <th>city</th>\n",
       "      <th>group</th>\n",
       "      <th>infection_case</th>\n",
       "      <th>confirmed</th>\n",
       "      <th>latitude</th>\n",
       "      <th>longitude</th>\n",
       "    </tr>\n",
       "  </thead>\n",
       "  <tbody>\n",
       "    <tr>\n",
       "      <th>0</th>\n",
       "      <td>1000001</td>\n",
       "      <td>Seoul</td>\n",
       "      <td>Guro-gu</td>\n",
       "      <td>True</td>\n",
       "      <td>Guro-gu Call Center</td>\n",
       "      <td>NaN</td>\n",
       "      <td>37.508163</td>\n",
       "      <td>126.884387</td>\n",
       "    </tr>\n",
       "    <tr>\n",
       "      <th>1</th>\n",
       "      <td>1000002</td>\n",
       "      <td>Seoul</td>\n",
       "      <td>Dongdaemun-gu</td>\n",
       "      <td>True</td>\n",
       "      <td>Dongan Church</td>\n",
       "      <td>20.0</td>\n",
       "      <td>37.592888</td>\n",
       "      <td>127.056766</td>\n",
       "    </tr>\n",
       "    <tr>\n",
       "      <th>2</th>\n",
       "      <td>1000003</td>\n",
       "      <td>Seoul</td>\n",
       "      <td>Guro-gu</td>\n",
       "      <td>True</td>\n",
       "      <td>Manmin Central Church</td>\n",
       "      <td>41.0</td>\n",
       "      <td>37.481059</td>\n",
       "      <td>126.894343</td>\n",
       "    </tr>\n",
       "    <tr>\n",
       "      <th>3</th>\n",
       "      <td>1000004</td>\n",
       "      <td>Seoul</td>\n",
       "      <td>Eunpyeong-gu</td>\n",
       "      <td>True</td>\n",
       "      <td>Eunpyeong St. Mary's Hospital</td>\n",
       "      <td>14.0</td>\n",
       "      <td>37.63369</td>\n",
       "      <td>126.9165</td>\n",
       "    </tr>\n",
       "    <tr>\n",
       "      <th>4</th>\n",
       "      <td>1000005</td>\n",
       "      <td>Seoul</td>\n",
       "      <td>Seongdong-gu</td>\n",
       "      <td>True</td>\n",
       "      <td>Seongdong-gu APT</td>\n",
       "      <td>13.0</td>\n",
       "      <td>37.55713</td>\n",
       "      <td>127.0403</td>\n",
       "    </tr>\n",
       "    <tr>\n",
       "      <th>...</th>\n",
       "      <td>...</td>\n",
       "      <td>...</td>\n",
       "      <td>...</td>\n",
       "      <td>...</td>\n",
       "      <td>...</td>\n",
       "      <td>...</td>\n",
       "      <td>...</td>\n",
       "      <td>...</td>\n",
       "    </tr>\n",
       "    <tr>\n",
       "      <th>107</th>\n",
       "      <td>6100009</td>\n",
       "      <td>Gyeongsangnam-do</td>\n",
       "      <td>-</td>\n",
       "      <td>False</td>\n",
       "      <td>contact with patient</td>\n",
       "      <td>6.0</td>\n",
       "      <td>-</td>\n",
       "      <td>-</td>\n",
       "    </tr>\n",
       "    <tr>\n",
       "      <th>108</th>\n",
       "      <td>6100010</td>\n",
       "      <td>Gyeongsangnam-do</td>\n",
       "      <td>-</td>\n",
       "      <td>False</td>\n",
       "      <td>etc</td>\n",
       "      <td>18.0</td>\n",
       "      <td>-</td>\n",
       "      <td>-</td>\n",
       "    </tr>\n",
       "    <tr>\n",
       "      <th>109</th>\n",
       "      <td>7000001</td>\n",
       "      <td>Jeju-do</td>\n",
       "      <td>-</td>\n",
       "      <td>False</td>\n",
       "      <td>overseas inflow</td>\n",
       "      <td>9.0</td>\n",
       "      <td>-</td>\n",
       "      <td>-</td>\n",
       "    </tr>\n",
       "    <tr>\n",
       "      <th>110</th>\n",
       "      <td>7000002</td>\n",
       "      <td>Jeju-do</td>\n",
       "      <td>-</td>\n",
       "      <td>False</td>\n",
       "      <td>contact with patient</td>\n",
       "      <td>0.0</td>\n",
       "      <td>-</td>\n",
       "      <td>-</td>\n",
       "    </tr>\n",
       "    <tr>\n",
       "      <th>111</th>\n",
       "      <td>7000003</td>\n",
       "      <td>Jeju-do</td>\n",
       "      <td>-</td>\n",
       "      <td>False</td>\n",
       "      <td>etc</td>\n",
       "      <td>4.0</td>\n",
       "      <td>-</td>\n",
       "      <td>-</td>\n",
       "    </tr>\n",
       "  </tbody>\n",
       "</table>\n",
       "<p>112 rows × 8 columns</p>\n",
       "</div>"
      ],
      "text/plain": [
       "     case_id          province           city  group  \\\n",
       "0    1000001             Seoul        Guro-gu   True   \n",
       "1    1000002             Seoul  Dongdaemun-gu   True   \n",
       "2    1000003             Seoul        Guro-gu   True   \n",
       "3    1000004             Seoul   Eunpyeong-gu   True   \n",
       "4    1000005             Seoul   Seongdong-gu   True   \n",
       "..       ...               ...            ...    ...   \n",
       "107  6100009  Gyeongsangnam-do              -  False   \n",
       "108  6100010  Gyeongsangnam-do              -  False   \n",
       "109  7000001           Jeju-do              -  False   \n",
       "110  7000002           Jeju-do              -  False   \n",
       "111  7000003           Jeju-do              -  False   \n",
       "\n",
       "                    infection_case  confirmed   latitude   longitude  \n",
       "0              Guro-gu Call Center        NaN  37.508163  126.884387  \n",
       "1                    Dongan Church       20.0  37.592888  127.056766  \n",
       "2            Manmin Central Church       41.0  37.481059  126.894343  \n",
       "3    Eunpyeong St. Mary's Hospital       14.0   37.63369    126.9165  \n",
       "4                 Seongdong-gu APT       13.0   37.55713    127.0403  \n",
       "..                             ...        ...        ...         ...  \n",
       "107           contact with patient        6.0          -           -  \n",
       "108                            etc       18.0          -           -  \n",
       "109                overseas inflow        9.0          -           -  \n",
       "110           contact with patient        0.0          -           -  \n",
       "111                            etc        4.0          -           -  \n",
       "\n",
       "[112 rows x 8 columns]"
      ]
     },
     "execution_count": 32,
     "metadata": {},
     "output_type": "execute_result"
    }
   ],
   "source": [
    "missing_data_df"
   ]
  },
  {
   "cell_type": "markdown",
   "metadata": {},
   "source": [
    "Pandas provides some methods specific to manipulating the missing data. To select NaN entries you can use pd.isnull() (or its companion pd.notnull()). "
   ]
  },
  {
   "cell_type": "code",
   "execution_count": 31,
   "metadata": {},
   "outputs": [
    {
     "output_type": "execute_result",
     "data": {
      "text/plain": "Empty DataFrame\nColumns: [case_id, province, city, group, infection_case, confirmed, latitude, longitude]\nIndex: []",
      "text/html": "<div>\n<style scoped>\n    .dataframe tbody tr th:only-of-type {\n        vertical-align: middle;\n    }\n\n    .dataframe tbody tr th {\n        vertical-align: top;\n    }\n\n    .dataframe thead th {\n        text-align: right;\n    }\n</style>\n<table border=\"1\" class=\"dataframe\">\n  <thead>\n    <tr style=\"text-align: right;\">\n      <th></th>\n      <th>case_id</th>\n      <th>province</th>\n      <th>city</th>\n      <th>group</th>\n      <th>infection_case</th>\n      <th>confirmed</th>\n      <th>latitude</th>\n      <th>longitude</th>\n    </tr>\n  </thead>\n  <tbody>\n  </tbody>\n</table>\n</div>"
     },
     "metadata": {},
     "execution_count": 31
    }
   ],
   "source": [
    "df[pd.isnull(df.city)]\n",
    "# df.isnull().values.any()\n",
    "# df.info"
   ]
  },
  {
   "cell_type": "markdown",
   "metadata": {},
   "source": [
    "Replacing missing values is a common operation. Pandas provides a really handy method for this problem: fillna~(). \n",
    "fillna() provides a few different strategies for mitigating such data. For example, we can simply replace each NaN with an \"Unknown\":"
   ]
  },
  {
   "cell_type": "code",
   "execution_count": 32,
   "metadata": {},
   "outputs": [
    {
     "output_type": "execute_result",
     "data": {
      "text/plain": "0            Guro-gu\n1      Dongdaemun-gu\n2            Guro-gu\n3       Eunpyeong-gu\n4       Seongdong-gu\n           ...      \n107                -\n108                -\n109                -\n110                -\n111                -\nName: city, Length: 112, dtype: object"
     },
     "metadata": {},
     "execution_count": 32
    }
   ],
   "source": [
    "# if any non value exsist, fill with unknown\n",
    "df.city.fillna(\"Unknown\")"
   ]
  },
  {
   "cell_type": "markdown",
   "metadata": {},
   "source": [
    "# Exercise\n",
    "1. fill the missing values of the confirmed cases with the average of the confirmed cases"
   ]
  },
  {
   "cell_type": "code",
   "execution_count": null,
   "metadata": {},
   "outputs": [],
   "source": []
  },
  {
   "cell_type": "markdown",
   "metadata": {},
   "source": [
    "Missing values are not always NaN, they can also be [\"n/a\", \"na\", \"-\", \"\"]. If needed we can also replace these values."
   ]
  },
  {
   "cell_type": "code",
   "execution_count": 33,
   "metadata": {},
   "outputs": [
    {
     "output_type": "execute_result",
     "data": {
      "text/plain": "array(['37.508163', '37.592888', '37.481059', '37.63369', '37.55713',\n       '37.57681', '37.562405', '-', '35.21628', '35.16708', '35.20599',\n       '35.17371', '35.84008', '35.857375', '35.885592', '35.857393',\n       '35.88395', '36.358123', '36.504713', '36.48025', '37.455687',\n       '37.758635', '37.38833', '37.2376', '37.342762', '36.82422',\n       '36.81503', '37.000354', '35.078825', '35.64887', '36.92757',\n       '36.0581', '35.782149', '36.646845', '35.84819', '35.82558',\n       '35.68556', '35.805681', '35.164845', '35.22115', '35.54127'],\n      dtype=object)"
     },
     "metadata": {},
     "execution_count": 33
    }
   ],
   "source": [
    "# df.latitude\n",
    "df.latitude.unique() # check the - "
   ]
  },
  {
   "cell_type": "code",
   "execution_count": 34,
   "metadata": {},
   "outputs": [
    {
     "output_type": "execute_result",
     "data": {
      "text/plain": "0      37.508163\n1      37.592888\n2      37.481059\n3       37.63369\n4       37.55713\n         ...    \n107      unknown\n108      unknown\n109      unknown\n110      unknown\n111      unknown\nName: latitude, Length: 112, dtype: object"
     },
     "metadata": {},
     "execution_count": 34
    }
   ],
   "source": [
    "# replace values\n",
    "df.latitude.replace('-', \"unknown\")"
   ]
  },
  {
   "cell_type": "markdown",
   "metadata": {},
   "source": [
    "# Study materials\n",
    "- Dictionaries: https://realpython.com/python-dicts/\n",
    "- List comprehension: https://www.pythonforbeginners.com/basics/list-comprehensions-in-python\n",
    "- Missing values: https://towardsdatascience.com/data-cleaning-with-python-and-pandas-detecting-missing-values-3e9c6ebcf78b\n",
    "- Can't wait for more pandas? https://github.com/justmarkham/pandas-videos (do not worry; we will cover most of it next week)\n",
    "\n",
    "# Next lesson\n",
    "- More dataframe exercises and transformations\n",
    "- Apply\n",
    "- Numpy\n"
   ]
  },
  {
   "cell_type": "code",
   "execution_count": null,
   "metadata": {},
   "outputs": [],
   "source": []
  }
 ],
 "metadata": {
  "kernelspec": {
   "display_name": "testj",
   "language": "python",
   "name": "build_central"
  },
  "language_info": {
   "codemirror_mode": {
    "name": "ipython",
    "version": 3
   },
   "file_extension": ".py",
   "mimetype": "text/x-python",
   "name": "python",
   "nbconvert_exporter": "python",
   "pygments_lexer": "ipython3",
   "version": "3.7.7-final"
  }
 },
 "nbformat": 4,
 "nbformat_minor": 4
}