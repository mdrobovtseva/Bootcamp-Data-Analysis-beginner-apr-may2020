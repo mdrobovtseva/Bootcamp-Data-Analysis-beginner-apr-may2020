{
 "cells": [
  {
   "cell_type": "markdown",
   "metadata": {},
   "source": [
    "# Recap"
   ]
  },
  {
   "cell_type": "code",
   "execution_count": 3,
   "metadata": {},
   "outputs": [
    {
     "output_type": "stream",
     "name": "stdout",
     "text": "['blue', 'yellow']\n['black', 'red', 'blue', 'yellow', 'pink']\n"
    }
   ],
   "source": [
    "colour_list = [\"black\", \"red\", \"blue\", \"yellow\", \"purple\"]\n",
    "print(colour_list[2:4])\n",
    "\n",
    "colour_list[-1] = \"pink\"\n",
    "print(colour_list)"
   ]
  },
  {
   "cell_type": "code",
   "execution_count": 4,
   "metadata": {},
   "outputs": [
    {
     "output_type": "stream",
     "name": "stdout",
     "text": "w\no\nr\nd\n"
    }
   ],
   "source": [
    "for letter in \"word\":\n",
    "    print(letter)"
   ]
  },
  {
   "cell_type": "code",
   "execution_count": 5,
   "metadata": {},
   "outputs": [
    {
     "output_type": "stream",
     "name": "stdout",
     "text": "black!\nred!\nblue!\nyellow!\npink!\n"
    }
   ],
   "source": [
    "for colour in colour_list:\n",
    "    print(colour + \"!\")"
   ]
  },
  {
   "cell_type": "markdown",
   "metadata": {},
   "source": [
    "# Why would we else use for loops?\n",
    "- Iteration: the ability to run (a block of) statements repeatedly"
   ]
  },
  {
   "cell_type": "code",
   "execution_count": 6,
   "metadata": {},
   "outputs": [
    {
     "output_type": "stream",
     "name": "stdout",
     "text": "This is a lot of typing\nThis is a lot of typing\nThis is a lot of typing\nThis is a lot of typing\nThis is a lot of typing\nThis is a lot of typing\nThis is a lot of typing\nThis is a lot of typing\n"
    }
   ],
   "source": [
    "print(\"This is a lot of typing\")\n",
    "print(\"This is a lot of typing\")\n",
    "print(\"This is a lot of typing\")\n",
    "print(\"This is a lot of typing\")\n",
    "print(\"This is a lot of typing\")\n",
    "print(\"This is a lot of typing\")\n",
    "print(\"This is a lot of typing\")\n",
    "print(\"This is a lot of typing\")"
   ]
  },
  {
   "cell_type": "code",
   "execution_count": 7,
   "metadata": {},
   "outputs": [
    {
     "output_type": "stream",
     "name": "stdout",
     "text": "This is a lot of typing\nThis is a lot of typing\nThis is a lot of typing\nThis is a lot of typing\nThis is a lot of typing\nThis is a lot of typing\nThis is a lot of typing\nThis is a lot of typing\nThis is a lot of typing\nThis is a lot of typing\n"
    }
   ],
   "source": [
    "for loop_nr in range(10):\n",
    "    print(\"This is a lot of typing\")"
   ]
  },
  {
   "cell_type": "code",
   "execution_count": 8,
   "metadata": {},
   "outputs": [
    {
     "output_type": "stream",
     "name": "stdout",
     "text": "This line will be shown 0 times\nThis line will be shown 1 times\nThis line will be shown 2 times\nThis line will be shown 3 times\nThis line will be shown 4 times\nThis line will be shown 5 times\nThis line will be shown 6 times\nThis line will be shown 7 times\nThis line will be shown 8 times\nThis line will be shown 9 times\nThis line will be shown 10 times\nThis line will be shown 11 times\nThis line will be shown 12 times\nThis line will be shown 13 times\nThis line will be shown 14 times\nThis line will be shown 15 times\nThis line will be shown 16 times\n"
    }
   ],
   "source": [
    "for loop_nr in range(17):\n",
    "    print(f\"This line will be shown {loop_nr} times\")"
   ]
  },
  {
   "cell_type": "markdown",
   "metadata": {},
   "source": [
    "# Conditional execution: Boolean and If / Else\n",
    "\n",
    "IF *expression*: \n",
    "then perform *statement*\n",
    "\n",
    "IF something is TRUE, then we will execute the code\n",
    "\n",
    "If something is FALSE we will do something ELSE"
   ]
  },
  {
   "cell_type": "code",
   "execution_count": 9,
   "metadata": {},
   "outputs": [
    {
     "output_type": "stream",
     "name": "stdout",
     "text": "1\n"
    }
   ],
   "source": [
    "# variable assignment\n",
    "number = 1\n",
    "print(number)"
   ]
  },
  {
   "cell_type": "code",
   "execution_count": 10,
   "metadata": {},
   "outputs": [
    {
     "output_type": "execute_result",
     "data": {
      "text/plain": "True"
     },
     "metadata": {},
     "execution_count": 10
    }
   ],
   "source": [
    "# == checks if something is equal to\n",
    "number == 1"
   ]
  },
  {
   "cell_type": "code",
   "execution_count": 11,
   "metadata": {},
   "outputs": [
    {
     "output_type": "execute_result",
     "data": {
      "text/plain": "False"
     },
     "metadata": {},
     "execution_count": 11
    }
   ],
   "source": [
    "# != checks if something is NOT equal to\n",
    "number != 1"
   ]
  },
  {
   "cell_type": "code",
   "execution_count": 12,
   "metadata": {},
   "outputs": [],
   "source": [
    "myname = 'Demi'\n",
    "is_long_name = len(myname) > 4"
   ]
  },
  {
   "cell_type": "code",
   "execution_count": 13,
   "metadata": {},
   "outputs": [
    {
     "output_type": "execute_result",
     "data": {
      "text/plain": "False"
     },
     "metadata": {},
     "execution_count": 13
    }
   ],
   "source": [
    "is_long_name"
   ]
  },
  {
   "cell_type": "code",
   "execution_count": 14,
   "metadata": {},
   "outputs": [
    {
     "output_type": "stream",
     "name": "stdout",
     "text": "I have python class\n"
    }
   ],
   "source": [
    "# has to be EXACT the same (no spelling erros, or capital letters)\n",
    "today = \"Wednesday\"\n",
    "\n",
    "if today == \"Wednesday\":\n",
    "    print(\"I have python class\")\n",
    "else:\n",
    "    print(\"I make homework\")"
   ]
  },
  {
   "cell_type": "markdown",
   "metadata": {},
   "source": [
    "# Exercise\n",
    "-  Today is a rainy day\n",
    "- normally if it is rainy you stay inside\n",
    "- If it is not rainy you go outside\n",
    "- write an evalution and print what do you do today"
   ]
  },
  {
   "cell_type": "code",
   "execution_count": null,
   "metadata": {},
   "outputs": [],
   "source": []
  },
  {
   "cell_type": "markdown",
   "metadata": {},
   "source": [
    "- check if you name is a long name\n",
    "- a long name means that name is greater or equal to 5 letter"
   ]
  },
  {
   "cell_type": "code",
   "execution_count": null,
   "metadata": {},
   "outputs": [],
   "source": []
  },
  {
   "cell_type": "markdown",
   "metadata": {},
   "source": [
    "\n",
    "# Functions\n",
    " A function is a block of code which only runs when it is called. You can pass data, known as parameters, into a function. A function can return data as a result\n",
    "* The (sequence of) statements can be called **multiple** times\n",
    "* Every variable within a function does not affect other code and visa versa\n",
    "* A function must have a return statement, otherwise your function is a fruitless function\n",
    "* Function can have arguments, this way the function talks with the rest of the code"
   ]
  },
  {
   "cell_type": "code",
   "execution_count": 15,
   "metadata": {},
   "outputs": [],
   "source": [
    "def calculate():\n",
    "    a = 1\n",
    "    b = 2\n",
    "    c = a + b\n",
    "    return c "
   ]
  },
  {
   "cell_type": "code",
   "execution_count": 16,
   "metadata": {},
   "outputs": [
    {
     "output_type": "execute_result",
     "data": {
      "text/plain": "3"
     },
     "metadata": {},
     "execution_count": 16
    }
   ],
   "source": [
    "calculate()"
   ]
  },
  {
   "cell_type": "code",
   "execution_count": 17,
   "metadata": {},
   "outputs": [],
   "source": [
    "a = 5\n",
    "b = 3"
   ]
  },
  {
   "cell_type": "code",
   "execution_count": 18,
   "metadata": {},
   "outputs": [
    {
     "output_type": "stream",
     "name": "stdout",
     "text": "8\n"
    }
   ],
   "source": [
    "print(a + b)"
   ]
  },
  {
   "cell_type": "code",
   "execution_count": 19,
   "metadata": {},
   "outputs": [
    {
     "output_type": "execute_result",
     "data": {
      "text/plain": "3"
     },
     "metadata": {},
     "execution_count": 19
    }
   ],
   "source": [
    "calculate()"
   ]
  },
  {
   "cell_type": "code",
   "execution_count": 20,
   "metadata": {},
   "outputs": [
    {
     "output_type": "stream",
     "name": "stdout",
     "text": "Hello you\n"
    }
   ],
   "source": [
    "def print_welcome_fruitless():\n",
    "    print('Hello you')\n",
    "\n",
    "print_welcome_fruitless()"
   ]
  },
  {
   "cell_type": "code",
   "execution_count": 21,
   "metadata": {},
   "outputs": [
    {
     "output_type": "execute_result",
     "data": {
      "text/plain": "<function __main__.print_welcome_fruitless()>"
     },
     "metadata": {},
     "execution_count": 21
    }
   ],
   "source": [
    "# do not forget the parentheses\n",
    "print_welcome_fruitless"
   ]
  },
  {
   "cell_type": "code",
   "execution_count": 22,
   "metadata": {},
   "outputs": [
    {
     "output_type": "stream",
     "name": "stdout",
     "text": "Hello Demi\n"
    }
   ],
   "source": [
    "# function with an argument\n",
    "def print_welcome_fruitless_with(name):\n",
    "    print('Hello ' + name)\n",
    "\n",
    "name = \"Demi\"\n",
    "print_welcome_fruitless_with(name)"
   ]
  },
  {
   "cell_type": "code",
   "execution_count": 23,
   "metadata": {},
   "outputs": [
    {
     "output_type": "error",
     "ename": "NameError",
     "evalue": "name 'print_welcome_fruitfull_with' is not defined",
     "traceback": [
      "\u001b[0;31m---------------------------------------------------------------------------\u001b[0m",
      "\u001b[0;31mNameError\u001b[0m                                 Traceback (most recent call last)",
      "\u001b[0;32m<ipython-input-23-b33ebfdd6592>\u001b[0m in \u001b[0;36m<module>\u001b[0;34m\u001b[0m\n\u001b[1;32m      1\u001b[0m \u001b[0;31m# Why does this result in an error?\u001b[0m\u001b[0;34m\u001b[0m\u001b[0;34m\u001b[0m\u001b[0;34m\u001b[0m\u001b[0m\n\u001b[0;32m----> 2\u001b[0;31m \u001b[0mprint_welcome_fruitfull_with\u001b[0m\u001b[0;34m(\u001b[0m\u001b[0;34m)\u001b[0m\u001b[0;34m\u001b[0m\u001b[0;34m\u001b[0m\u001b[0m\n\u001b[0m",
      "\u001b[0;31mNameError\u001b[0m: name 'print_welcome_fruitfull_with' is not defined"
     ]
    }
   ],
   "source": [
    "# Why does this result in an error?\n",
    "print_welcome_fruitfull_with()"
   ]
  },
  {
   "cell_type": "code",
   "execution_count": 24,
   "metadata": {},
   "outputs": [
    {
     "output_type": "stream",
     "name": "stdout",
     "text": "Hi\n<class 'NoneType'>\n<class 'str'>\n"
    }
   ],
   "source": [
    "# fruitless \n",
    "def this_does_nothing():\n",
    "    print('Hi')\n",
    "\n",
    "# fruitfull\n",
    "def this_does_something():\n",
    "    return \"Hi\"\n",
    "    \n",
    "print(type(this_does_nothing()))\n",
    "print(type(this_does_something()))"
   ]
  },
  {
   "cell_type": "code",
   "execution_count": 25,
   "metadata": {},
   "outputs": [
    {
     "output_type": "stream",
     "name": "stdout",
     "text": "useless function\n"
    }
   ],
   "source": [
    "def explain_what_functions_does():\n",
    "    \"\"\" This is a fruitless function without an argument\"\"\" # this is a docstring\n",
    "    # It acts as a comment, developers use docstrings to explain what a function does\n",
    "    print(\"useless function\")\n",
    "    \n",
    "explain_what_functions_does()"
   ]
  },
  {
   "cell_type": "markdown",
   "metadata": {},
   "source": [
    "# Exercise\n",
    "- Assign numbers to variables a and b\n",
    "- Create a function to multiply the numbers \n",
    "- Give your function a name and description\n",
    "- Make sure the function returns the number, it does not have to print it "
   ]
  },
  {
   "cell_type": "code",
   "execution_count": null,
   "metadata": {},
   "outputs": [],
   "source": []
  },
  {
   "cell_type": "markdown",
   "metadata": {},
   "source": [
    "# Built-in functions\n",
    "- Like normal functions, already built by Python developers for you\n",
    "- Use for simple operations you perform often or for debugging\n",
    "- Not data type specific\n",
    "- Recognise them as they are green: type / print / len / range"
   ]
  },
  {
   "cell_type": "code",
   "execution_count": 27,
   "metadata": {},
   "outputs": [
    {
     "output_type": "stream",
     "name": "stdout",
     "text": "<class 'str'>\n<class 'list'>\n"
    }
   ],
   "source": [
    "name = \"Ann\"\n",
    "name_list = [\"Ann\", \"Karen\", \"Peet\", \"John\"]\n",
    "\n",
    "print(type(name))\n",
    "print(type(name_list))"
   ]
  },
  {
   "cell_type": "code",
   "execution_count": 28,
   "metadata": {},
   "outputs": [
    {
     "output_type": "stream",
     "name": "stdout",
     "text": "3\n4\n"
    }
   ],
   "source": [
    "# counts the length of the list\n",
    "print(len(name))\n",
    "print(len(name_list))"
   ]
  },
  {
   "cell_type": "code",
   "execution_count": 29,
   "metadata": {},
   "outputs": [
    {
     "output_type": "stream",
     "name": "stdout",
     "text": "Yeah, I am coding in Python\nYeah, I am coding in Python\nYeah, I am coding in Python\nYeah, I am coding in Python\nYeah, I am coding in Python\n"
    }
   ],
   "source": [
    "def print_n_times(how_often, text_to_print):\n",
    "    \"\"\"This function will print any given text (passed as the parameter: text_to_print)\n",
    "       a requested amount of times (passed in the parameter: how_often)\"\"\"\n",
    "    for n in range(how_often):\n",
    "        print(text_to_print)\n",
    "\n",
    "print_n_times(5, \"Yeah, I am coding in Python\")"
   ]
  },
  {
   "cell_type": "code",
   "execution_count": 30,
   "metadata": {},
   "outputs": [
    {
     "output_type": "stream",
     "name": "stdout",
     "text": "the name of Karen is 3 letters\n the name of Peet is 4 letters\n"
    }
   ],
   "source": [
    "# you can use built-in function within built-in function\n",
    "print(f\" the name of Karen is {len(name)} letters\" )\n",
    "print(f\" the name of {name_list[2]} is {len(name_list[2])} letters\" )"
   ]
  },
  {
   "cell_type": "markdown",
   "metadata": {},
   "source": [
    "# Methods\n",
    "Python datatypes like 'str' / 'list' / 'int' are Classes.\n",
    "With Classes you can functionally group things together. Python developers created 'str', 'list' and other Python datatypes as Classes for you.\n",
    "\n",
    "Python datatypes have their own specific functions that cannot be used for other datatypes.  They are built-in functions as well, or you can write them yourself, like normal functions.\n",
    "For example:\n",
    "- .append() is a method we can use for the class 'list' only\n",
    "- .lower() is a method we can use for the class 'string' only"
   ]
  },
  {
   "cell_type": "code",
   "execution_count": 31,
   "metadata": {},
   "outputs": [
    {
     "output_type": "stream",
     "name": "stdout",
     "text": "['Ann', 'Karen', 'Peet', 'John']\n['Ann', 'Karen', 'Peet', 'John', 'Bart']\n"
    }
   ],
   "source": [
    "print(name_list)\n",
    "name_list.append(\"Bart\")\n",
    "print(name_list)"
   ]
  },
  {
   "cell_type": "code",
   "execution_count": 32,
   "metadata": {},
   "outputs": [
    {
     "output_type": "stream",
     "name": "stdout",
     "text": "Ann\nann\n"
    }
   ],
   "source": [
    "print(name)\n",
    "print(name.lower())"
   ]
  },
  {
   "cell_type": "code",
   "execution_count": 33,
   "metadata": {},
   "outputs": [
    {
     "output_type": "error",
     "ename": "AttributeError",
     "evalue": "'list' object has no attribute 'lower'",
     "traceback": [
      "\u001b[0;31m---------------------------------------------------------------------------\u001b[0m",
      "\u001b[0;31mAttributeError\u001b[0m                            Traceback (most recent call last)",
      "\u001b[0;32m<ipython-input-33-3cd930eb6b5e>\u001b[0m in \u001b[0;36m<module>\u001b[0;34m\u001b[0m\n\u001b[1;32m      1\u001b[0m \u001b[0;31m# with list this does not work\u001b[0m\u001b[0;34m\u001b[0m\u001b[0;34m\u001b[0m\u001b[0;34m\u001b[0m\u001b[0m\n\u001b[0;32m----> 2\u001b[0;31m \u001b[0mprint\u001b[0m\u001b[0;34m(\u001b[0m\u001b[0mname_list\u001b[0m\u001b[0;34m.\u001b[0m\u001b[0mlower\u001b[0m\u001b[0;34m(\u001b[0m\u001b[0;34m)\u001b[0m\u001b[0;34m)\u001b[0m\u001b[0;34m\u001b[0m\u001b[0;34m\u001b[0m\u001b[0m\n\u001b[0m",
      "\u001b[0;31mAttributeError\u001b[0m: 'list' object has no attribute 'lower'"
     ]
    }
   ],
   "source": [
    "# with list this does not work\n",
    "print(name_list.lower())"
   ]
  },
  {
   "cell_type": "code",
   "execution_count": 34,
   "metadata": {},
   "outputs": [],
   "source": [
    "# import the module math to use for int or float transformations\n",
    "import math"
   ]
  },
  {
   "cell_type": "code",
   "execution_count": 35,
   "metadata": {},
   "outputs": [
    {
     "output_type": "execute_result",
     "data": {
      "text/plain": "1.4142135623730951"
     },
     "metadata": {},
     "execution_count": 35
    }
   ],
   "source": [
    "# take the square root of 2\n",
    "math.sqrt(2)"
   ]
  },
  {
   "cell_type": "code",
   "execution_count": 36,
   "metadata": {},
   "outputs": [
    {
     "output_type": "execute_result",
     "data": {
      "text/plain": "2.449"
     },
     "metadata": {},
     "execution_count": 36
    }
   ],
   "source": [
    "round(math.sqrt(6), 3)"
   ]
  },
  {
   "cell_type": "code",
   "execution_count": 37,
   "metadata": {},
   "outputs": [
    {
     "output_type": "stream",
     "name": "stdout",
     "text": "Our next class at 2020-05-12\n"
    }
   ],
   "source": [
    "# import the module with another name\n",
    "import datetime as dt\n",
    "\n",
    "now = dt.date.today()\n",
    "days = dt.timedelta(7)\n",
    "\n",
    "next_class = now + days\n",
    "print(f\"Our next class at {next_class}\")"
   ]
  },
  {
   "cell_type": "markdown",
   "metadata": {},
   "source": [
    "# Reading Files\n",
    "\n",
    "If we want to read any file (for example a text file) it will take two steps:\n",
    "\n",
    "1. Open the file for reading\n",
    "2. The actual reading\n",
    "\n",
    "The first step is useless on its own, but without it we are not able to read a file. The most efficient way to do this is by using 'with' statement.\n",
    "The 'with' statement is handy when you have two related operations which you’d like to execute as a pair, with a block of code in between. In our case it is file opening and reading.\n",
    "\n",
    "A .txt is is a standard text document that contains unformatted text. It is recognised by any text editing or word processing program and can also be processed by a lot of other software programs. It's the same as a .docx or .doc file. To put it differently: a .docx or .doc or word file are .txt files"
   ]
  },
  {
   "cell_type": "code",
   "execution_count": 38,
   "metadata": {},
   "outputs": [
    {
     "output_type": "stream",
     "name": "stdout",
     "text": "Path at terminal when executing this file\n/Users/alyonagalyeva/test/Bootcamp_preps/lessons\n"
    }
   ],
   "source": [
    "import os\n",
    "\n",
    "print(\"Path at terminal when executing this file\")\n",
    "print(os.getcwd())"
   ]
  },
  {
   "cell_type": "code",
   "execution_count": 39,
   "metadata": {},
   "outputs": [],
   "source": [
    "with open('data/birth_life_2010.txt', 'r') as file:\n",
    "    all_text = file.read()"
   ]
  },
  {
   "cell_type": "code",
   "execution_count": 40,
   "metadata": {},
   "outputs": [
    {
     "output_type": "execute_result",
     "data": {
      "text/plain": "'Country\\tBirth rate\\tLife expectancy\\nVietnam\\t1.822\\t74.828243902\\nVanuatu\\t3.869\\t70.819487805\\nTonga\\t3.911'"
     },
     "metadata": {},
     "execution_count": 40
    }
   ],
   "source": [
    "all_text[:100]"
   ]
  },
  {
   "cell_type": "code",
   "execution_count": 41,
   "metadata": {},
   "outputs": [
    {
     "output_type": "execute_result",
     "data": {
      "text/plain": "['Country',\n 'Birth rate',\n 'Life expectancy\\nVietnam',\n '1.822',\n '74.828243902\\nVanuatu',\n '3.869',\n '70.819487805\\nTonga',\n '3.911',\n '72.150658537\\nTimor-Leste',\n '5.578',\n '61.999853659\\nThailand',\n '1.579',\n '73.927658537\\nSolomon Islands',\n '4.229',\n '67.465195122\\nSingapore',\n '1.15',\n '81.641463415\\nSamoa',\n '3.86',\n '72.306390244\\nPhilippines',\n '3.142',\n '68.484317073\\nPapua New Guinea',\n '3.951',\n '62.440609756\\nNew Zealand',\n '2.16',\n '80.702439024\\nNew Caledonia',\n '2.141',\n '76.301682927\\nMyanmar',\n '2.002',\n '64.662097561\\nMongolia',\n '2.504',\n '68.194975610\\nMicronesia',\n '3.451',\n '68.764829268\\nMalaysia',\n '2.635',\n '74.024560976\\nMacao SAR, China',\n '1.092',\n '80.775317073\\nLao PDR',\n '2.747',\n '67.064\\nKorea',\n '1.22',\n '80.761951220\\nJapan',\n '1.39',\n '82.932682927\\nIndonesia',\n '2.117',\n '68.889658537\\nHong Kong SAR, China',\n '1.108',\n '82.878048780\\nGuam',\n '2.47',\n '75.994268293\\nFrench Polynesia',\n '2.09',\n '75.076878049\\nFiji',\n '2.668',\n '69.225829268\\nDem. Rep. Korea',\n '2.022',\n '68.532146341\\nChina',\n '1.598',\n '73.273097561\\nCambodia',\n '2.581',\n '62.536219512\\nBrunei',\n '2.042',\n '77.932024390\\nAustralia',\n '1.92',\n '81.695121951\\nUzbekistan',\n '2.499',\n '68.001\\nUnited Kingdom',\n '1.94',\n '80.402439024\\nUkraine',\n '1.445',\n '70.275609756\\nTurkmenistan',\n '2.399',\n '64.863512195\\nTurkey',\n '2.088',\n '73.696658537\\nTajikistan',\n '3.297',\n '67.259902439\\nSwitzerland',\n '1.5',\n '82.246341463\\nSweden',\n '1.98',\n '81.451219512\\nSpain',\n '1.39',\n '81.626829268\\nSlovenia',\n '1.57',\n '79.421951220\\nSlovak Republic',\n '1.4',\n '75.112195122\\nSerbia',\n '1.4',\n '73.936585366\\nRussia',\n '1.54',\n '68.804878049\\nRomania',\n '1.38',\n '73.458536585\\nPortugal',\n '1.32',\n '79.026829268\\nPoland',\n '1.38',\n '76.246341463\\nNorway',\n '1.95',\n '80.997560976\\nNetherlands',\n '1.79',\n '80.702439024\\nMontenegro',\n '1.656',\n '74.311097561\\nMoldova',\n '1.475',\n '68.903707317\\nMacedonia',\n '1.422',\n '74.618853659\\nLuxembourg',\n '1.63',\n '80.087804878\\nLithuania',\n '1.55',\n '73.268292683\\nLatvia',\n '1.17',\n '73.482926829\\nKyrgyz Republic',\n '2.898',\n '69.368463415\\nKosovo',\n '2.2893',\n '69.884390244\\nKazakhstan',\n '2.59',\n '68.295365854\\nItaly',\n '1.4',\n '81.736585366\\nIreland',\n '2.07',\n '80.291951220\\nIceland',\n '2.2',\n '81.451219512\\nHungary',\n '1.25',\n '74.207317073\\nGreece',\n '1.44',\n '80.387804878\\nGermany',\n '1.39',\n '79.987804878\\nGeorgia',\n '1.555',\n '73.327341463\\nFrance',\n '2',\n '81.368292683\\nFinland',\n '1.87',\n '79.870731707\\nEstonia',\n '1.63',\n '75.429268293\\nDenmark',\n '1.87',\n '79.1\\nCzech Republic',\n '1.49',\n '77.424390244\\nCyprus',\n '1.476',\n '79.380390244\\nCroatia',\n '1.46',\n '76.475609756\\nChannel Islands',\n '1.46',\n '79.832\\nBulgaria',\n '1.49',\n '73.512195122\\nBosnia and Herzegovina',\n '1.148',\n '75.400439024\\nBelgium',\n '1.84',\n '79.936585366\\nBelarus',\n '1.44',\n '70.404878049\\nAzerbaijan',\n '2.3',\n '70.506512195\\nAustria',\n '1.44',\n '80.382926829\\nArmenia',\n '1.736',\n '73.783560976\\nAlbania',\n '1.536',\n '76.900951220\\nVirgin Islands',\n '1.8',\n '79.189439024\\nVenezuela',\n '2.49',\n '74.127317073\\nUruguay',\n '1.9856',\n '76.236829268\\nTrinidad and Tobago',\n '1.639',\n '69.755\\nThe Bahamas',\n '1.896',\n '75.222121951\\nSuriname',\n '2.336',\n '70.335317073\\nSt. Vincent and the Grenadines',\n '2.064',\n '72.112536585\\nSt. Lucia',\n '1.98',\n '74.439902439\\nPuerto Rico',\n '1.797',\n '78.913292683\\nPeru',\n '2.501',\n '73.764975610\\nParaguay',\n '2.954',\n '72.277\\nPanama',\n '2.484',\n '75.974243902\\nNicaragua',\n '2.622',\n '73.729219512\\nMexico',\n '2.32',\n '76.683780488\\nJamaica',\n '2.329',\n '72.847121951\\nHonduras',\n '3.139',\n '72.825926829\\nHaiti',\n '3.34',\n '61.763\\nGuyana',\n '2.262',\n '69.549146341\\nGuatemala',\n '3.983',\n '70.825414634\\nGrenada',\n '2.235',\n '75.660439024\\nEl Salvador',\n '2.25',\n '71.732365854\\nEcuador',\n '2.479',\n '75.462292683\\nDominican Republic',\n '2.58',\n '73.200024390\\nCuba',\n '1.467',\n '78.964146341\\nCosta Rica',\n '1.848',\n '79.192609756\\nColombia',\n '2.1',\n '73.429682927\\nChile',\n '1.862',\n '78.885731707\\nBrazil',\n '1.83',\n '73.099536585\\nBolivia',\n '3.348',\n '66.268560976\\nBelize',\n '2.79',\n '75.839951220\\nBarbados',\n '1.551',\n '76.572829268\\nAruba',\n '1.699',\n '74.975170732\\nArgentina',\n '2.211',\n '75.632146341\\nYemen',\n '5.2',\n '65.030463415\\nWest Bank and Gaza',\n '4.453',\n '72.643682927\\nUnited Arab Emirates',\n '1.749',\n '76.573609756\\nTunisia',\n '2.04',\n '74.6\\nSyrian Arab Republic',\n '2.934',\n '75.702560976\\nSaudi Arabia',\n '2.811',\n '73.850414634\\nQatar',\n '2.271',\n '78.097585366\\nOman',\n '2.309',\n '73.124609756\\nMorocco',\n '2.279',\n '71.864634146\\nMalta',\n '1.38',\n '80.948780488\\nLibya',\n '2.564',\n '74.753121951\\nLebanon',\n '1.8',\n '72.408756098\\nKuwait',\n '2.295',\n '74.604731707\\nJordan',\n '3.8',\n '73.289658537\\nIsrael',\n '3.03',\n '81.504878049\\nIraq',\n '4.702',\n '68.486048780\\nIran',\n '1.67',\n '72.751853659\\nEgypt',\n '2.733',\n '72.975268293\\nDjibouti',\n '3.75',\n '57.527390244\\nBahrain',\n '2.54',\n '75.023829268\\nAlgeria',\n '2.264',\n '72.852536585\\nUnited States',\n '2.1',\n '78.241463415\\nCanada',\n '1.677',\n '80.797804878\\nBermuda',\n '1.764',\n '79.288536585\\nSri Lanka',\n '2.313',\n '74.722609756\\nPakistan',\n '3.423',\n '65.198853659\\nNepal',\n '2.727',\n '68.394829268\\nMaldives',\n '1.752',\n '76.551414634\\nIndia',\n '2.625',\n '65.131341463\\nBhutan',\n '2.399',\n '66.908853659\\nBangladesh',\n '2.245',\n '68.634804878\\nAfghanistan',\n '6.288',\n '48.282195122\\nZimbabwe',\n '3.29',\n '49.860878049\\nZambia',\n '6.258',\n '48.455487805\\nUganda',\n '6.149',\n '53.614634146\\nTogo',\n '4.072',\n '56.588707317\\nThe Gambia',\n '4.896',\n '58.160024390\\nTanzania',\n '5.544',\n '57.387487805\\nSwaziland',\n '3.364',\n '48.342804878\\nSudan',\n '4.4',\n '61.108243902\\nSouth Africa',\n '2.458',\n '52.081487805\\nSomalia',\n '6.339',\n '50.895536585\\nSierra Leone',\n '4.982',\n '47.402195122\\nSeychelles',\n '2.5',\n '73.034146341\\nSenegal',\n '4.819',\n '58.954073171\\nRwanda',\n '5.371',\n '55.057121951\\nNigeria',\n '5.525',\n '51.410024390\\nNiger',\n '7.063',\n '54.265634146\\nNamibia',\n '3.217',\n '62.070097561\\nMozambique',\n '4.912',\n '49.696926829\\nMauritius',\n '1.47',\n '72.967317073\\nMauritania',\n '4.533',\n '58.216951220\\nMali',\n '6.294',\n '50.954829268\\nMalawi',\n '5.99',\n '53.462634146\\nMadagascar',\n '4.651',\n '66.467073171\\nLiberia',\n '5.238',\n '56.147585366\\nLesotho',\n '3.199',\n '47.365073171\\nKenya',\n '4.718',\n '56.497073171\\nGuinea-Bissau',\n '5.063',\n '47.700658537\\nGuinea',\n '5.246',\n '53.638585366\\nGhana',\n '4.17',\n '63.837268293\\nGabon',\n '3.25',\n '62.286682927\\nEthiopia',\n '4.193',\n '58.715097561\\nEritrea',\n '4.453',\n '60.994195122\\nEquatorial Guinea',\n '5.185',\n '50.840804878\\nDem. Rep. Congo',\n '5.775',\n '48.069585366\\nCongo',\n '4.544',\n '56.960195122\\nComoros',\n '4.919',\n '60.626268293\\nChad',\n '5.981',\n '49.194829268\\nCentral African Republic',\n '4.631',\n '47.618463415\\nCape Verde',\n '2.405',\n '73.774048780\\nCameroon',\n '4.487',\n '51.062756098\\nBurundi',\n '4.338',\n '49.877219512\\nBurkina Faso',\n '5.85',\n '54.924195122\\nBotswana',\n '2.75',\n '53.109512195\\nBenin',\n '5.287',\n '55.585585366\\nAngola',\n '5.443',\n '50.653658537']"
     },
     "metadata": {},
     "execution_count": 41
    }
   ],
   "source": [
    "all_text.split('\\t')\n",
    "#all_text.split('\\n')"
   ]
  },
  {
   "cell_type": "code",
   "execution_count": 44,
   "metadata": {},
   "outputs": [],
   "source": [
    "with open('data/birth_life_2010.txt', 'r') as file:\n",
    "    all_text = file.read()\n",
    "    all_text = all_text.split('\\n')"
   ]
  },
  {
   "cell_type": "code",
   "execution_count": 45,
   "metadata": {},
   "outputs": [
    {
     "output_type": "execute_result",
     "data": {
      "text/plain": "['Country\\tBirth rate\\tLife expectancy',\n 'Vietnam\\t1.822\\t74.828243902',\n 'Vanuatu\\t3.869\\t70.819487805',\n 'Tonga\\t3.911\\t72.150658537',\n 'Timor-Leste\\t5.578\\t61.999853659',\n 'Thailand\\t1.579\\t73.927658537',\n 'Solomon Islands\\t4.229\\t67.465195122',\n 'Singapore\\t1.15\\t81.641463415',\n 'Samoa\\t3.86\\t72.306390244',\n 'Philippines\\t3.142\\t68.484317073',\n 'Papua New Guinea\\t3.951\\t62.440609756',\n 'New Zealand\\t2.16\\t80.702439024',\n 'New Caledonia\\t2.141\\t76.301682927',\n 'Myanmar\\t2.002\\t64.662097561',\n 'Mongolia\\t2.504\\t68.194975610',\n 'Micronesia\\t3.451\\t68.764829268',\n 'Malaysia\\t2.635\\t74.024560976',\n 'Macao SAR, China\\t1.092\\t80.775317073',\n 'Lao PDR\\t2.747\\t67.064',\n 'Korea\\t1.22\\t80.761951220',\n 'Japan\\t1.39\\t82.932682927',\n 'Indonesia\\t2.117\\t68.889658537',\n 'Hong Kong SAR, China\\t1.108\\t82.878048780',\n 'Guam\\t2.47\\t75.994268293',\n 'French Polynesia\\t2.09\\t75.076878049',\n 'Fiji\\t2.668\\t69.225829268',\n 'Dem. Rep. Korea\\t2.022\\t68.532146341',\n 'China\\t1.598\\t73.273097561',\n 'Cambodia\\t2.581\\t62.536219512',\n 'Brunei\\t2.042\\t77.932024390',\n 'Australia\\t1.92\\t81.695121951',\n 'Uzbekistan\\t2.499\\t68.001',\n 'United Kingdom\\t1.94\\t80.402439024',\n 'Ukraine\\t1.445\\t70.275609756',\n 'Turkmenistan\\t2.399\\t64.863512195',\n 'Turkey\\t2.088\\t73.696658537',\n 'Tajikistan\\t3.297\\t67.259902439',\n 'Switzerland\\t1.5\\t82.246341463',\n 'Sweden\\t1.98\\t81.451219512',\n 'Spain\\t1.39\\t81.626829268',\n 'Slovenia\\t1.57\\t79.421951220',\n 'Slovak Republic\\t1.4\\t75.112195122',\n 'Serbia\\t1.4\\t73.936585366',\n 'Russia\\t1.54\\t68.804878049',\n 'Romania\\t1.38\\t73.458536585',\n 'Portugal\\t1.32\\t79.026829268',\n 'Poland\\t1.38\\t76.246341463',\n 'Norway\\t1.95\\t80.997560976',\n 'Netherlands\\t1.79\\t80.702439024',\n 'Montenegro\\t1.656\\t74.311097561',\n 'Moldova\\t1.475\\t68.903707317',\n 'Macedonia\\t1.422\\t74.618853659',\n 'Luxembourg\\t1.63\\t80.087804878',\n 'Lithuania\\t1.55\\t73.268292683',\n 'Latvia\\t1.17\\t73.482926829',\n 'Kyrgyz Republic\\t2.898\\t69.368463415',\n 'Kosovo\\t2.2893\\t69.884390244',\n 'Kazakhstan\\t2.59\\t68.295365854',\n 'Italy\\t1.4\\t81.736585366',\n 'Ireland\\t2.07\\t80.291951220',\n 'Iceland\\t2.2\\t81.451219512',\n 'Hungary\\t1.25\\t74.207317073',\n 'Greece\\t1.44\\t80.387804878',\n 'Germany\\t1.39\\t79.987804878',\n 'Georgia\\t1.555\\t73.327341463',\n 'France\\t2\\t81.368292683',\n 'Finland\\t1.87\\t79.870731707',\n 'Estonia\\t1.63\\t75.429268293',\n 'Denmark\\t1.87\\t79.1',\n 'Czech Republic\\t1.49\\t77.424390244',\n 'Cyprus\\t1.476\\t79.380390244',\n 'Croatia\\t1.46\\t76.475609756',\n 'Channel Islands\\t1.46\\t79.832',\n 'Bulgaria\\t1.49\\t73.512195122',\n 'Bosnia and Herzegovina\\t1.148\\t75.400439024',\n 'Belgium\\t1.84\\t79.936585366',\n 'Belarus\\t1.44\\t70.404878049',\n 'Azerbaijan\\t2.3\\t70.506512195',\n 'Austria\\t1.44\\t80.382926829',\n 'Armenia\\t1.736\\t73.783560976',\n 'Albania\\t1.536\\t76.900951220',\n 'Virgin Islands\\t1.8\\t79.189439024',\n 'Venezuela\\t2.49\\t74.127317073',\n 'Uruguay\\t1.9856\\t76.236829268',\n 'Trinidad and Tobago\\t1.639\\t69.755',\n 'The Bahamas\\t1.896\\t75.222121951',\n 'Suriname\\t2.336\\t70.335317073',\n 'St. Vincent and the Grenadines\\t2.064\\t72.112536585',\n 'St. Lucia\\t1.98\\t74.439902439',\n 'Puerto Rico\\t1.797\\t78.913292683',\n 'Peru\\t2.501\\t73.764975610',\n 'Paraguay\\t2.954\\t72.277',\n 'Panama\\t2.484\\t75.974243902',\n 'Nicaragua\\t2.622\\t73.729219512',\n 'Mexico\\t2.32\\t76.683780488',\n 'Jamaica\\t2.329\\t72.847121951',\n 'Honduras\\t3.139\\t72.825926829',\n 'Haiti\\t3.34\\t61.763',\n 'Guyana\\t2.262\\t69.549146341',\n 'Guatemala\\t3.983\\t70.825414634',\n 'Grenada\\t2.235\\t75.660439024',\n 'El Salvador\\t2.25\\t71.732365854',\n 'Ecuador\\t2.479\\t75.462292683',\n 'Dominican Republic\\t2.58\\t73.200024390',\n 'Cuba\\t1.467\\t78.964146341',\n 'Costa Rica\\t1.848\\t79.192609756',\n 'Colombia\\t2.1\\t73.429682927',\n 'Chile\\t1.862\\t78.885731707',\n 'Brazil\\t1.83\\t73.099536585',\n 'Bolivia\\t3.348\\t66.268560976',\n 'Belize\\t2.79\\t75.839951220',\n 'Barbados\\t1.551\\t76.572829268',\n 'Aruba\\t1.699\\t74.975170732',\n 'Argentina\\t2.211\\t75.632146341',\n 'Yemen\\t5.2\\t65.030463415',\n 'West Bank and Gaza\\t4.453\\t72.643682927',\n 'United Arab Emirates\\t1.749\\t76.573609756',\n 'Tunisia\\t2.04\\t74.6',\n 'Syrian Arab Republic\\t2.934\\t75.702560976',\n 'Saudi Arabia\\t2.811\\t73.850414634',\n 'Qatar\\t2.271\\t78.097585366',\n 'Oman\\t2.309\\t73.124609756',\n 'Morocco\\t2.279\\t71.864634146',\n 'Malta\\t1.38\\t80.948780488',\n 'Libya\\t2.564\\t74.753121951',\n 'Lebanon\\t1.8\\t72.408756098',\n 'Kuwait\\t2.295\\t74.604731707',\n 'Jordan\\t3.8\\t73.289658537',\n 'Israel\\t3.03\\t81.504878049',\n 'Iraq\\t4.702\\t68.486048780',\n 'Iran\\t1.67\\t72.751853659',\n 'Egypt\\t2.733\\t72.975268293',\n 'Djibouti\\t3.75\\t57.527390244',\n 'Bahrain\\t2.54\\t75.023829268',\n 'Algeria\\t2.264\\t72.852536585',\n 'United States\\t2.1\\t78.241463415',\n 'Canada\\t1.677\\t80.797804878',\n 'Bermuda\\t1.764\\t79.288536585',\n 'Sri Lanka\\t2.313\\t74.722609756',\n 'Pakistan\\t3.423\\t65.198853659',\n 'Nepal\\t2.727\\t68.394829268',\n 'Maldives\\t1.752\\t76.551414634',\n 'India\\t2.625\\t65.131341463',\n 'Bhutan\\t2.399\\t66.908853659',\n 'Bangladesh\\t2.245\\t68.634804878',\n 'Afghanistan\\t6.288\\t48.282195122',\n 'Zimbabwe\\t3.29\\t49.860878049',\n 'Zambia\\t6.258\\t48.455487805',\n 'Uganda\\t6.149\\t53.614634146',\n 'Togo\\t4.072\\t56.588707317',\n 'The Gambia\\t4.896\\t58.160024390',\n 'Tanzania\\t5.544\\t57.387487805',\n 'Swaziland\\t3.364\\t48.342804878',\n 'Sudan\\t4.4\\t61.108243902',\n 'South Africa\\t2.458\\t52.081487805',\n 'Somalia\\t6.339\\t50.895536585',\n 'Sierra Leone\\t4.982\\t47.402195122',\n 'Seychelles\\t2.5\\t73.034146341',\n 'Senegal\\t4.819\\t58.954073171',\n 'Rwanda\\t5.371\\t55.057121951',\n 'Nigeria\\t5.525\\t51.410024390',\n 'Niger\\t7.063\\t54.265634146',\n 'Namibia\\t3.217\\t62.070097561',\n 'Mozambique\\t4.912\\t49.696926829',\n 'Mauritius\\t1.47\\t72.967317073',\n 'Mauritania\\t4.533\\t58.216951220',\n 'Mali\\t6.294\\t50.954829268',\n 'Malawi\\t5.99\\t53.462634146',\n 'Madagascar\\t4.651\\t66.467073171',\n 'Liberia\\t5.238\\t56.147585366',\n 'Lesotho\\t3.199\\t47.365073171',\n 'Kenya\\t4.718\\t56.497073171',\n 'Guinea-Bissau\\t5.063\\t47.700658537',\n 'Guinea\\t5.246\\t53.638585366',\n 'Ghana\\t4.17\\t63.837268293',\n 'Gabon\\t3.25\\t62.286682927',\n 'Ethiopia\\t4.193\\t58.715097561',\n 'Eritrea\\t4.453\\t60.994195122',\n 'Equatorial Guinea\\t5.185\\t50.840804878',\n 'Dem. Rep. Congo\\t5.775\\t48.069585366',\n 'Congo\\t4.544\\t56.960195122',\n 'Comoros\\t4.919\\t60.626268293',\n 'Chad\\t5.981\\t49.194829268',\n 'Central African Republic\\t4.631\\t47.618463415',\n 'Cape Verde\\t2.405\\t73.774048780',\n 'Cameroon\\t4.487\\t51.062756098',\n 'Burundi\\t4.338\\t49.877219512',\n 'Burkina Faso\\t5.85\\t54.924195122',\n 'Botswana\\t2.75\\t53.109512195',\n 'Benin\\t5.287\\t55.585585366',\n 'Angola\\t5.443\\t50.653658537']"
     },
     "metadata": {},
     "execution_count": 45
    }
   ],
   "source": [
    "all_text"
   ]
  },
  {
   "cell_type": "code",
   "execution_count": 46,
   "metadata": {
    "scrolled": true
   },
   "outputs": [
    {
     "output_type": "error",
     "ename": "AttributeError",
     "evalue": "'list' object has no attribute 'split'",
     "traceback": [
      "\u001b[0;31m---------------------------------------------------------------------------\u001b[0m",
      "\u001b[0;31mAttributeError\u001b[0m                            Traceback (most recent call last)",
      "\u001b[0;32m<ipython-input-46-26584011009f>\u001b[0m in \u001b[0;36m<module>\u001b[0;34m\u001b[0m\n\u001b[0;32m----> 1\u001b[0;31m \u001b[0mall_text\u001b[0m\u001b[0;34m.\u001b[0m\u001b[0msplit\u001b[0m\u001b[0;34m(\u001b[0m\u001b[0;34m'\\t'\u001b[0m\u001b[0;34m)\u001b[0m\u001b[0;34m\u001b[0m\u001b[0;34m\u001b[0m\u001b[0m\n\u001b[0m\u001b[1;32m      2\u001b[0m \u001b[0;31m# how do we check the data type of all_text?\u001b[0m\u001b[0;34m\u001b[0m\u001b[0;34m\u001b[0m\u001b[0;34m\u001b[0m\u001b[0m\n",
      "\u001b[0;31mAttributeError\u001b[0m: 'list' object has no attribute 'split'"
     ]
    }
   ],
   "source": [
    "all_text.split('\\t')\n",
    "# how do we check the data type of all_text?"
   ]
  },
  {
   "cell_type": "code",
   "execution_count": 47,
   "metadata": {},
   "outputs": [],
   "source": [
    "# override and try again with readlines\n",
    "with open('data/birth_life_2010.txt', 'r') as file:\n",
    "    all_text = file.readlines()"
   ]
  },
  {
   "cell_type": "code",
   "execution_count": 48,
   "metadata": {},
   "outputs": [
    {
     "output_type": "stream",
     "name": "stdout",
     "text": "[['Country', 'Birth rate', 'Life expectancy'], ['Vietnam', '1.822', '74.828243902'], ['Vanuatu', '3.869', '70.819487805'], ['Tonga', '3.911', '72.150658537'], ['Timor-Leste', '5.578', '61.999853659'], ['Thailand', '1.579', '73.927658537'], ['Solomon Islands', '4.229', '67.465195122'], ['Singapore', '1.15', '81.641463415'], ['Samoa', '3.86', '72.306390244'], ['Philippines', '3.142', '68.484317073'], ['Papua New Guinea', '3.951', '62.440609756'], ['New Zealand', '2.16', '80.702439024'], ['New Caledonia', '2.141', '76.301682927'], ['Myanmar', '2.002', '64.662097561'], ['Mongolia', '2.504', '68.194975610'], ['Micronesia', '3.451', '68.764829268'], ['Malaysia', '2.635', '74.024560976'], ['Macao SAR, China', '1.092', '80.775317073'], ['Lao PDR', '2.747', '67.064'], ['Korea', '1.22', '80.761951220'], ['Japan', '1.39', '82.932682927'], ['Indonesia', '2.117', '68.889658537'], ['Hong Kong SAR, China', '1.108', '82.878048780'], ['Guam', '2.47', '75.994268293'], ['French Polynesia', '2.09', '75.076878049'], ['Fiji', '2.668', '69.225829268'], ['Dem. Rep. Korea', '2.022', '68.532146341'], ['China', '1.598', '73.273097561'], ['Cambodia', '2.581', '62.536219512'], ['Brunei', '2.042', '77.932024390'], ['Australia', '1.92', '81.695121951'], ['Uzbekistan', '2.499', '68.001'], ['United Kingdom', '1.94', '80.402439024'], ['Ukraine', '1.445', '70.275609756'], ['Turkmenistan', '2.399', '64.863512195'], ['Turkey', '2.088', '73.696658537'], ['Tajikistan', '3.297', '67.259902439'], ['Switzerland', '1.5', '82.246341463'], ['Sweden', '1.98', '81.451219512'], ['Spain', '1.39', '81.626829268'], ['Slovenia', '1.57', '79.421951220'], ['Slovak Republic', '1.4', '75.112195122'], ['Serbia', '1.4', '73.936585366'], ['Russia', '1.54', '68.804878049'], ['Romania', '1.38', '73.458536585'], ['Portugal', '1.32', '79.026829268'], ['Poland', '1.38', '76.246341463'], ['Norway', '1.95', '80.997560976'], ['Netherlands', '1.79', '80.702439024'], ['Montenegro', '1.656', '74.311097561'], ['Moldova', '1.475', '68.903707317'], ['Macedonia', '1.422', '74.618853659'], ['Luxembourg', '1.63', '80.087804878'], ['Lithuania', '1.55', '73.268292683'], ['Latvia', '1.17', '73.482926829'], ['Kyrgyz Republic', '2.898', '69.368463415'], ['Kosovo', '2.2893', '69.884390244'], ['Kazakhstan', '2.59', '68.295365854'], ['Italy', '1.4', '81.736585366'], ['Ireland', '2.07', '80.291951220'], ['Iceland', '2.2', '81.451219512'], ['Hungary', '1.25', '74.207317073'], ['Greece', '1.44', '80.387804878'], ['Germany', '1.39', '79.987804878'], ['Georgia', '1.555', '73.327341463'], ['France', '2', '81.368292683'], ['Finland', '1.87', '79.870731707'], ['Estonia', '1.63', '75.429268293'], ['Denmark', '1.87', '79.1'], ['Czech Republic', '1.49', '77.424390244'], ['Cyprus', '1.476', '79.380390244'], ['Croatia', '1.46', '76.475609756'], ['Channel Islands', '1.46', '79.832'], ['Bulgaria', '1.49', '73.512195122'], ['Bosnia and Herzegovina', '1.148', '75.400439024'], ['Belgium', '1.84', '79.936585366'], ['Belarus', '1.44', '70.404878049'], ['Azerbaijan', '2.3', '70.506512195'], ['Austria', '1.44', '80.382926829'], ['Armenia', '1.736', '73.783560976'], ['Albania', '1.536', '76.900951220'], ['Virgin Islands', '1.8', '79.189439024'], ['Venezuela', '2.49', '74.127317073'], ['Uruguay', '1.9856', '76.236829268'], ['Trinidad and Tobago', '1.639', '69.755'], ['The Bahamas', '1.896', '75.222121951'], ['Suriname', '2.336', '70.335317073'], ['St. Vincent and the Grenadines', '2.064', '72.112536585'], ['St. Lucia', '1.98', '74.439902439'], ['Puerto Rico', '1.797', '78.913292683'], ['Peru', '2.501', '73.764975610'], ['Paraguay', '2.954', '72.277'], ['Panama', '2.484', '75.974243902'], ['Nicaragua', '2.622', '73.729219512'], ['Mexico', '2.32', '76.683780488'], ['Jamaica', '2.329', '72.847121951'], ['Honduras', '3.139', '72.825926829'], ['Haiti', '3.34', '61.763'], ['Guyana', '2.262', '69.549146341'], ['Guatemala', '3.983', '70.825414634'], ['Grenada', '2.235', '75.660439024'], ['El Salvador', '2.25', '71.732365854'], ['Ecuador', '2.479', '75.462292683'], ['Dominican Republic', '2.58', '73.200024390'], ['Cuba', '1.467', '78.964146341'], ['Costa Rica', '1.848', '79.192609756'], ['Colombia', '2.1', '73.429682927'], ['Chile', '1.862', '78.885731707'], ['Brazil', '1.83', '73.099536585'], ['Bolivia', '3.348', '66.268560976'], ['Belize', '2.79', '75.839951220'], ['Barbados', '1.551', '76.572829268'], ['Aruba', '1.699', '74.975170732'], ['Argentina', '2.211', '75.632146341'], ['Yemen', '5.2', '65.030463415'], ['West Bank and Gaza', '4.453', '72.643682927'], ['United Arab Emirates', '1.749', '76.573609756'], ['Tunisia', '2.04', '74.6'], ['Syrian Arab Republic', '2.934', '75.702560976'], ['Saudi Arabia', '2.811', '73.850414634'], ['Qatar', '2.271', '78.097585366'], ['Oman', '2.309', '73.124609756'], ['Morocco', '2.279', '71.864634146'], ['Malta', '1.38', '80.948780488'], ['Libya', '2.564', '74.753121951'], ['Lebanon', '1.8', '72.408756098'], ['Kuwait', '2.295', '74.604731707'], ['Jordan', '3.8', '73.289658537'], ['Israel', '3.03', '81.504878049'], ['Iraq', '4.702', '68.486048780'], ['Iran', '1.67', '72.751853659'], ['Egypt', '2.733', '72.975268293'], ['Djibouti', '3.75', '57.527390244'], ['Bahrain', '2.54', '75.023829268'], ['Algeria', '2.264', '72.852536585'], ['United States', '2.1', '78.241463415'], ['Canada', '1.677', '80.797804878'], ['Bermuda', '1.764', '79.288536585'], ['Sri Lanka', '2.313', '74.722609756'], ['Pakistan', '3.423', '65.198853659'], ['Nepal', '2.727', '68.394829268'], ['Maldives', '1.752', '76.551414634'], ['India', '2.625', '65.131341463'], ['Bhutan', '2.399', '66.908853659'], ['Bangladesh', '2.245', '68.634804878'], ['Afghanistan', '6.288', '48.282195122'], ['Zimbabwe', '3.29', '49.860878049'], ['Zambia', '6.258', '48.455487805'], ['Uganda', '6.149', '53.614634146'], ['Togo', '4.072', '56.588707317'], ['The Gambia', '4.896', '58.160024390'], ['Tanzania', '5.544', '57.387487805'], ['Swaziland', '3.364', '48.342804878'], ['Sudan', '4.4', '61.108243902'], ['South Africa', '2.458', '52.081487805'], ['Somalia', '6.339', '50.895536585'], ['Sierra Leone', '4.982', '47.402195122'], ['Seychelles', '2.5', '73.034146341'], ['Senegal', '4.819', '58.954073171'], ['Rwanda', '5.371', '55.057121951'], ['Nigeria', '5.525', '51.410024390'], ['Niger', '7.063', '54.265634146'], ['Namibia', '3.217', '62.070097561'], ['Mozambique', '4.912', '49.696926829'], ['Mauritius', '1.47', '72.967317073'], ['Mauritania', '4.533', '58.216951220'], ['Mali', '6.294', '50.954829268'], ['Malawi', '5.99', '53.462634146'], ['Madagascar', '4.651', '66.467073171'], ['Liberia', '5.238', '56.147585366'], ['Lesotho', '3.199', '47.365073171'], ['Kenya', '4.718', '56.497073171'], ['Guinea-Bissau', '5.063', '47.700658537'], ['Guinea', '5.246', '53.638585366'], ['Ghana', '4.17', '63.837268293'], ['Gabon', '3.25', '62.286682927'], ['Ethiopia', '4.193', '58.715097561'], ['Eritrea', '4.453', '60.994195122'], ['Equatorial Guinea', '5.185', '50.840804878'], ['Dem. Rep. Congo', '5.775', '48.069585366'], ['Congo', '4.544', '56.960195122'], ['Comoros', '4.919', '60.626268293'], ['Chad', '5.981', '49.194829268'], ['Central African Republic', '4.631', '47.618463415'], ['Cape Verde', '2.405', '73.774048780'], ['Cameroon', '4.487', '51.062756098'], ['Burundi', '4.338', '49.877219512'], ['Burkina Faso', '5.85', '54.924195122'], ['Botswana', '2.75', '53.109512195'], ['Benin', '5.287', '55.585585366'], ['Angola', '5.443', '50.653658537']]\n"
    }
   ],
   "source": [
    "new_text = []\n",
    "for line in all_text:\n",
    "    new_text.append(line.strip().split('\\t'))\n",
    "\n",
    "print(new_text)"
   ]
  },
  {
   "cell_type": "code",
   "execution_count": 49,
   "metadata": {},
   "outputs": [
    {
     "output_type": "stream",
     "name": "stdout",
     "text": "[['Country', 'Birth rate', 'Life expectancy'], ['Vietnam', '1.822', '74.828243902'], ['Vanuatu', '3.869', '70.819487805'], ['Tonga', '3.911', '72.150658537'], ['Timor-Leste', '5.578', '61.999853659'], ['Thailand', '1.579', '73.927658537'], ['Solomon Islands', '4.229', '67.465195122'], ['Singapore', '1.15', '81.641463415'], ['Samoa', '3.86', '72.306390244'], ['Philippines', '3.142', '68.484317073'], ['Papua New Guinea', '3.951', '62.440609756'], ['New Zealand', '2.16', '80.702439024'], ['New Caledonia', '2.141', '76.301682927'], ['Myanmar', '2.002', '64.662097561'], ['Mongolia', '2.504', '68.194975610'], ['Micronesia', '3.451', '68.764829268'], ['Malaysia', '2.635', '74.024560976'], ['Macao SAR, China', '1.092', '80.775317073'], ['Lao PDR', '2.747', '67.064'], ['Korea', '1.22', '80.761951220'], ['Japan', '1.39', '82.932682927'], ['Indonesia', '2.117', '68.889658537'], ['Hong Kong SAR, China', '1.108', '82.878048780'], ['Guam', '2.47', '75.994268293'], ['French Polynesia', '2.09', '75.076878049'], ['Fiji', '2.668', '69.225829268'], ['Dem. Rep. Korea', '2.022', '68.532146341'], ['China', '1.598', '73.273097561'], ['Cambodia', '2.581', '62.536219512'], ['Brunei', '2.042', '77.932024390'], ['Australia', '1.92', '81.695121951'], ['Uzbekistan', '2.499', '68.001'], ['United Kingdom', '1.94', '80.402439024'], ['Ukraine', '1.445', '70.275609756'], ['Turkmenistan', '2.399', '64.863512195'], ['Turkey', '2.088', '73.696658537'], ['Tajikistan', '3.297', '67.259902439'], ['Switzerland', '1.5', '82.246341463'], ['Sweden', '1.98', '81.451219512'], ['Spain', '1.39', '81.626829268'], ['Slovenia', '1.57', '79.421951220'], ['Slovak Republic', '1.4', '75.112195122'], ['Serbia', '1.4', '73.936585366'], ['Russia', '1.54', '68.804878049'], ['Romania', '1.38', '73.458536585'], ['Portugal', '1.32', '79.026829268'], ['Poland', '1.38', '76.246341463'], ['Norway', '1.95', '80.997560976'], ['Netherlands', '1.79', '80.702439024'], ['Montenegro', '1.656', '74.311097561'], ['Moldova', '1.475', '68.903707317'], ['Macedonia', '1.422', '74.618853659'], ['Luxembourg', '1.63', '80.087804878'], ['Lithuania', '1.55', '73.268292683'], ['Latvia', '1.17', '73.482926829'], ['Kyrgyz Republic', '2.898', '69.368463415'], ['Kosovo', '2.2893', '69.884390244'], ['Kazakhstan', '2.59', '68.295365854'], ['Italy', '1.4', '81.736585366'], ['Ireland', '2.07', '80.291951220'], ['Iceland', '2.2', '81.451219512'], ['Hungary', '1.25', '74.207317073'], ['Greece', '1.44', '80.387804878'], ['Germany', '1.39', '79.987804878'], ['Georgia', '1.555', '73.327341463'], ['France', '2', '81.368292683'], ['Finland', '1.87', '79.870731707'], ['Estonia', '1.63', '75.429268293'], ['Denmark', '1.87', '79.1'], ['Czech Republic', '1.49', '77.424390244'], ['Cyprus', '1.476', '79.380390244'], ['Croatia', '1.46', '76.475609756'], ['Channel Islands', '1.46', '79.832'], ['Bulgaria', '1.49', '73.512195122'], ['Bosnia and Herzegovina', '1.148', '75.400439024'], ['Belgium', '1.84', '79.936585366'], ['Belarus', '1.44', '70.404878049'], ['Azerbaijan', '2.3', '70.506512195'], ['Austria', '1.44', '80.382926829'], ['Armenia', '1.736', '73.783560976'], ['Albania', '1.536', '76.900951220'], ['Virgin Islands', '1.8', '79.189439024'], ['Venezuela', '2.49', '74.127317073'], ['Uruguay', '1.9856', '76.236829268'], ['Trinidad and Tobago', '1.639', '69.755'], ['The Bahamas', '1.896', '75.222121951'], ['Suriname', '2.336', '70.335317073'], ['St. Vincent and the Grenadines', '2.064', '72.112536585'], ['St. Lucia', '1.98', '74.439902439'], ['Puerto Rico', '1.797', '78.913292683'], ['Peru', '2.501', '73.764975610'], ['Paraguay', '2.954', '72.277'], ['Panama', '2.484', '75.974243902'], ['Nicaragua', '2.622', '73.729219512'], ['Mexico', '2.32', '76.683780488'], ['Jamaica', '2.329', '72.847121951'], ['Honduras', '3.139', '72.825926829'], ['Haiti', '3.34', '61.763'], ['Guyana', '2.262', '69.549146341'], ['Guatemala', '3.983', '70.825414634'], ['Grenada', '2.235', '75.660439024'], ['El Salvador', '2.25', '71.732365854'], ['Ecuador', '2.479', '75.462292683'], ['Dominican Republic', '2.58', '73.200024390'], ['Cuba', '1.467', '78.964146341'], ['Costa Rica', '1.848', '79.192609756'], ['Colombia', '2.1', '73.429682927'], ['Chile', '1.862', '78.885731707'], ['Brazil', '1.83', '73.099536585'], ['Bolivia', '3.348', '66.268560976'], ['Belize', '2.79', '75.839951220'], ['Barbados', '1.551', '76.572829268'], ['Aruba', '1.699', '74.975170732'], ['Argentina', '2.211', '75.632146341'], ['Yemen', '5.2', '65.030463415'], ['West Bank and Gaza', '4.453', '72.643682927'], ['United Arab Emirates', '1.749', '76.573609756'], ['Tunisia', '2.04', '74.6'], ['Syrian Arab Republic', '2.934', '75.702560976'], ['Saudi Arabia', '2.811', '73.850414634'], ['Qatar', '2.271', '78.097585366'], ['Oman', '2.309', '73.124609756'], ['Morocco', '2.279', '71.864634146'], ['Malta', '1.38', '80.948780488'], ['Libya', '2.564', '74.753121951'], ['Lebanon', '1.8', '72.408756098'], ['Kuwait', '2.295', '74.604731707'], ['Jordan', '3.8', '73.289658537'], ['Israel', '3.03', '81.504878049'], ['Iraq', '4.702', '68.486048780'], ['Iran', '1.67', '72.751853659'], ['Egypt', '2.733', '72.975268293'], ['Djibouti', '3.75', '57.527390244'], ['Bahrain', '2.54', '75.023829268'], ['Algeria', '2.264', '72.852536585'], ['United States', '2.1', '78.241463415'], ['Canada', '1.677', '80.797804878'], ['Bermuda', '1.764', '79.288536585'], ['Sri Lanka', '2.313', '74.722609756'], ['Pakistan', '3.423', '65.198853659'], ['Nepal', '2.727', '68.394829268'], ['Maldives', '1.752', '76.551414634'], ['India', '2.625', '65.131341463'], ['Bhutan', '2.399', '66.908853659'], ['Bangladesh', '2.245', '68.634804878'], ['Afghanistan', '6.288', '48.282195122'], ['Zimbabwe', '3.29', '49.860878049'], ['Zambia', '6.258', '48.455487805'], ['Uganda', '6.149', '53.614634146'], ['Togo', '4.072', '56.588707317'], ['The Gambia', '4.896', '58.160024390'], ['Tanzania', '5.544', '57.387487805'], ['Swaziland', '3.364', '48.342804878'], ['Sudan', '4.4', '61.108243902'], ['South Africa', '2.458', '52.081487805'], ['Somalia', '6.339', '50.895536585'], ['Sierra Leone', '4.982', '47.402195122'], ['Seychelles', '2.5', '73.034146341'], ['Senegal', '4.819', '58.954073171'], ['Rwanda', '5.371', '55.057121951'], ['Nigeria', '5.525', '51.410024390'], ['Niger', '7.063', '54.265634146'], ['Namibia', '3.217', '62.070097561'], ['Mozambique', '4.912', '49.696926829'], ['Mauritius', '1.47', '72.967317073'], ['Mauritania', '4.533', '58.216951220'], ['Mali', '6.294', '50.954829268'], ['Malawi', '5.99', '53.462634146'], ['Madagascar', '4.651', '66.467073171'], ['Liberia', '5.238', '56.147585366'], ['Lesotho', '3.199', '47.365073171'], ['Kenya', '4.718', '56.497073171'], ['Guinea-Bissau', '5.063', '47.700658537'], ['Guinea', '5.246', '53.638585366'], ['Ghana', '4.17', '63.837268293'], ['Gabon', '3.25', '62.286682927'], ['Ethiopia', '4.193', '58.715097561'], ['Eritrea', '4.453', '60.994195122'], ['Equatorial Guinea', '5.185', '50.840804878'], ['Dem. Rep. Congo', '5.775', '48.069585366'], ['Congo', '4.544', '56.960195122'], ['Comoros', '4.919', '60.626268293'], ['Chad', '5.981', '49.194829268'], ['Central African Republic', '4.631', '47.618463415'], ['Cape Verde', '2.405', '73.774048780'], ['Cameroon', '4.487', '51.062756098'], ['Burundi', '4.338', '49.877219512'], ['Burkina Faso', '5.85', '54.924195122'], ['Botswana', '2.75', '53.109512195'], ['Benin', '5.287', '55.585585366'], ['Angola', '5.443', '50.653658537']]\n"
    }
   ],
   "source": [
    "# list comprehension\n",
    "new_text = [line.strip().split('\\t') for line in all_text]\n",
    "print(new_text)"
   ]
  },
  {
   "cell_type": "markdown",
   "metadata": {},
   "source": [
    "# Read and learn more\n",
    "- For loops: https://thepythonguru.com/python-loops/\n",
    "- Functions: https://thepythonguru.com/python-functions/\n",
    "- Datatype conversion: https://thepythonguru.com/datatype-conversion/\n",
    "- Control statements: https://thepythonguru.com/python-control-statements/\n",
    "- Math: https://thepythonguru.com/python-mathematical-function/"
   ]
  },
  {
   "cell_type": "code",
   "execution_count": null,
   "metadata": {},
   "outputs": [],
   "source": []
  }
 ],
 "metadata": {
  "kernelspec": {
   "display_name": "testj",
   "language": "python",
   "name": "build_central"
  },
  "language_info": {
   "codemirror_mode": {
    "name": "ipython",
    "version": 3
   },
   "file_extension": ".py",
   "mimetype": "text/x-python",
   "name": "python",
   "nbconvert_exporter": "python",
   "pygments_lexer": "ipython3",
   "version": "3.7.7-final"
  }
 },
 "nbformat": 4,
 "nbformat_minor": 2
}