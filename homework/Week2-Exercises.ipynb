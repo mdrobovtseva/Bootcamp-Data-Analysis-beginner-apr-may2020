{
 "cells": [
  {
   "cell_type": "markdown",
   "metadata": {},
   "source": [
    "# Exercise 1\n",
    "Welcome every name from `names`\n",
    "\n",
    "1. Create a list of 3 names\n",
    "\n",
    "2. Create a fruitless function that prints \"hello\" and the name from this name list\n",
    "\n",
    "3. The argument of your function is the name list"
   ]
  },
  {
   "cell_type": "code",
   "execution_count": null,
   "metadata": {},
   "outputs": [],
   "source": []
  },
  {
   "cell_type": "markdown",
   "metadata": {},
   "source": [
    "# Exercise 2\n",
    "- Write a Python program to calculate the sum of three given numbers\n",
    "- All the numbers should be the arguments of this function\n",
    "- If sum of the numbers is odd, then return a string saying that the numbers are odd\n",
    "- Your functions does not have to print because it is fruitful\n",
    "- Use a built-in function to calculate the sum, not an operator"
   ]
  },
  {
   "cell_type": "code",
   "execution_count": null,
   "metadata": {},
   "outputs": [],
   "source": []
  },
  {
   "cell_type": "markdown",
   "metadata": {},
   "source": [
    "# Exercise 3\n",
    "Write a Python program to concatenate all elements in a list to a string and return it"
   ]
  },
  {
   "cell_type": "code",
   "execution_count": null,
   "metadata": {},
   "outputs": [],
   "source": []
  },
  {
   "cell_type": "markdown",
   "metadata": {},
   "source": [
    "# Exercise 4\n",
    "Write a Python program to sum three given integers. However, if two values are equal sum will be zero\n",
    "- use //\tfor floor division"
   ]
  },
  {
   "cell_type": "code",
   "execution_count": null,
   "metadata": {},
   "outputs": [],
   "source": []
  }
 ],
 "metadata": {
  "kernelspec": {
   "display_name": "Python 3",
   "language": "python",
   "name": "python3"
  },
  "language_info": {
   "codemirror_mode": {
    "name": "ipython",
    "version": 3
   },
   "file_extension": ".py",
   "mimetype": "text/x-python",
   "name": "python",
   "nbconvert_exporter": "python",
   "pygments_lexer": "ipython3",
   "version": "3.7.6"
  }
 },
 "nbformat": 4,
 "nbformat_minor": 2
}