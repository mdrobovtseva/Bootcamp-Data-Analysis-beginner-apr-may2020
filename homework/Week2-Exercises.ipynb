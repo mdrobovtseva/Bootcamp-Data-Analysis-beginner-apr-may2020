{
 "cells": [
  {
   "cell_type": "markdown",
   "metadata": {},
   "source": [
    "# Exercise 1\n",
    "Welcome every name from `names`\n",
    "\n",
    "1. Create a list of 3 names\n",
    "\n",
    "2. Create a fruitless function that prints \"hello\" and the name from this name list\n",
    "\n",
    "3. The argument of your function is the name list"
   ]
  },
  {
   "cell_type": "code",
   "execution_count": 1,
   "metadata": {},
   "outputs": [],
   "source": [
    "names = ['vivian', 'fera', 'bela']"
   ]
  },
  {
   "cell_type": "code",
   "execution_count": 2,
   "metadata": {},
   "outputs": [],
   "source": [
    "def hello_name(list):\n",
    "    for name in list:\n",
    "        print('hello ' + name)"
   ]
  },
  {
   "cell_type": "code",
   "execution_count": 3,
   "metadata": {},
   "outputs": [
    {
     "name": "stdout",
     "output_type": "stream",
     "text": [
      "hello vivian\n",
      "hello fera\n",
      "hello bela\n"
     ]
    }
   ],
   "source": [
    "hello_name(names)"
   ]
  },
  {
   "cell_type": "markdown",
   "metadata": {},
   "source": [
    "# Exercise 2\n",
    "- Write a Python program to calculate the sum of three given numbers\n",
    "- All the numbers should be the arguments of this function\n",
    "- If sum of the numbers is odd, then return a string saying that the numbers are odd\n",
    "- Your functions does not have to print because it is fruitful\n",
    "- Use a built-in function to calculate the sum, not an operator"
   ]
  },
  {
   "cell_type": "code",
   "execution_count": 9,
   "metadata": {},
   "outputs": [],
   "source": [
    "def sum_num(x,y,z):\n",
    "    soma = sum([x,y,z])\n",
    "    if soma % 2 != 0:\n",
    "       return(f'{soma} is odd')\n",
    "    else:\n",
    "        return(f'{soma} is even')"
   ]
  },
  {
   "cell_type": "code",
   "execution_count": 11,
   "metadata": {},
   "outputs": [
    {
     "data": {
      "text/plain": [
       "'6 is even'"
      ]
     },
     "execution_count": 11,
     "metadata": {},
     "output_type": "execute_result"
    }
   ],
   "source": [
    "sum_num(1,2,3)"
   ]
  },
  {
   "cell_type": "markdown",
   "metadata": {},
   "source": [
    "# Exercise 3\n",
    "Write a Python program to concatenate all elements in a list to a string and return it"
   ]
  },
  {
   "cell_type": "code",
   "execution_count": 2,
   "metadata": {},
   "outputs": [],
   "source": [
    "def concate(list):\n",
    "    result = ''\n",
    "    for item in list:\n",
    "        result += str(''.join(item))\n",
    "    return result"
   ]
  },
  {
   "cell_type": "code",
   "execution_count": 3,
   "metadata": {},
   "outputs": [
    {
     "name": "stdout",
     "output_type": "stream",
     "text": [
      "vivianpinheirodemacedo\n",
      "<class 'str'>\n"
     ]
    }
   ],
   "source": [
    "result = concate(['vivian','pinheiro','de','macedo',])\n",
    "print(result)\n",
    "print(type(result))"
   ]
  },
  {
   "cell_type": "markdown",
   "metadata": {},
   "source": [
    "# Exercise 4\n",
    "Write a Python program to sum three given integers. However, if two values are equal sum will be zero\n",
    "- use //\tfor floor division"
   ]
  },
  {
   "cell_type": "code",
   "execution_count": 4,
   "metadata": {},
   "outputs": [],
   "source": [
    "def sum_three(x,y,z):\n",
    "    if x == y or y == z or x == z:\n",
    "        result = 0\n",
    "    else:\n",
    "        result = x + y + z\n",
    "    print(result)\n",
    "    "
   ]
  },
  {
   "cell_type": "code",
   "execution_count": 6,
   "metadata": {},
   "outputs": [
    {
     "name": "stdout",
     "output_type": "stream",
     "text": [
      "0\n"
     ]
    }
   ],
   "source": [
    "sum_three(3,3,2)"
   ]
  },
  {
   "cell_type": "code",
   "execution_count": null,
   "metadata": {},
   "outputs": [],
   "source": []
  }
 ],
 "metadata": {
  "kernelspec": {
   "display_name": "Python 3",
   "language": "python",
   "name": "python3"
  },
  "language_info": {
   "codemirror_mode": {
    "name": "ipython",
    "version": 3
   },
   "file_extension": ".py",
   "mimetype": "text/x-python",
   "name": "python",
   "nbconvert_exporter": "python",
   "pygments_lexer": "ipython3",
   "version": "3.8.2"
  }
 },
 "nbformat": 4,
 "nbformat_minor": 2
}
