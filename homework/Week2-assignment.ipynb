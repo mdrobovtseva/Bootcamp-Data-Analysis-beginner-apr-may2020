{
 "cells": [
  {
   "cell_type": "markdown",
   "metadata": {},
   "source": [
    "# Manipulate .txt files\n",
    "### Preps:\n",
    "1. Create a data folder in the assignments folder\n",
    "2. Copy the birth_life_2010.txt to the data folder\n",
    "3. What is the absolute path of your birth_life_2010.txt file? \n",
    "    - Hint: `import os`\n",
    "4. Look up what the os library can do for you\n",
    "\n",
    "\n",
    "### Questions\n",
    "1. Read birth_life_2010.txt file line by line\n",
    "2. Make sure that every country name is in the same list as the Birth rate and the Life expectancy belonging to that country\n",
    "    - example: [Vietnam, 1.822, 74.828243902']\n",
    "    - result: [[Vietnam, 1.822, 74.828243902'], ..., ['Vanuatu, 3.869, 70.819487805]]\n",
    "3. Make sure all the countries names starts from capital letters\n",
    "4. Round all the numbers to 2 decimals\n",
    "5. Sort the list based on the country names from A -> Z\n",
    "6. Remove the last letter of every country\n",
    "\n",
    "\n",
    "### Hard Questions\n",
    "1. Create a function that takes a list of words and returns step 3 till 6 as a list\n",
    " - do not forget the comments and to explain what your function does and what it returns (what is the expected function output)\n",
    "2. How many country does the file contain?\n",
    "3. Do all countries have birth and life expectancy present? \n",
    "4. How many countries start with the letter M?\n",
    "5. How many countries have a 'z' in their name"
   ]
  },
  {
   "cell_type": "code",
   "execution_count": null,
   "metadata": {},
   "outputs": [],
   "source": []
  }
 ],
 "metadata": {
  "kernelspec": {
   "display_name": "Python 3",
   "language": "python",
   "name": "python3"
  },
  "language_info": {
   "codemirror_mode": {
    "name": "ipython",
    "version": 3
   },
   "file_extension": ".py",
   "mimetype": "text/x-python",
   "name": "python",
   "nbconvert_exporter": "python",
   "pygments_lexer": "ipython3",
   "version": "3.7.6"
  }
 },
 "nbformat": 4,
 "nbformat_minor": 4
}