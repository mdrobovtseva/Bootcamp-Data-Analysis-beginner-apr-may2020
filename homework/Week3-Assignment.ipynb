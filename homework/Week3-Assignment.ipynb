{
 "cells": [
  {
   "cell_type": "markdown",
   "metadata": {},
   "source": [
    "# Assignment\n",
    "\n",
    "Take the dataset you found in Week 1 and try to explore it. If you do not have a dataset yet, visit `https://www.kaggle.com/datasets` to find it, or use the covid-19 dataset provided\n",
    "\n",
    "1. Try to describe the dataset in markdown, write an introduction text about what the dataset contains and what you will explore\n",
    "2. Use pandas functions to do exploration of the dataset\n",
    "    - How big is your dataset\n",
    "    - Averages\n",
    "3. Rename a column, check out the documentation how to do this (https://pandas.pydata.org/pandas-docs/stable/reference/api/pandas.DataFrame.rename.html)\n",
    "4. Check for null values\n",
    "5. Fill your null values, make sure to write in markdown the decision, you made about filling the null values (average / median), think what is most appropriate in you case\n",
    "6. If you have strings in your dataset, try to add an exclamation mark to the string of the current column (so you can overwrite the column)\n",
    "7. If you have integers in your dataset, create a new column called \"plus1\" and add 1 to each integer in the column\n",
    "8. If you have dates in your dataset, try to extract the year and put this in a 'year' column\n",
    "9. Try to answer the questions you wrote down in week 1\n"
   ]
  },
  {
   "cell_type": "code",
   "execution_count": null,
   "metadata": {},
   "outputs": [],
   "source": []
  }
 ],
 "metadata": {
  "kernelspec": {
   "display_name": "Python 3",
   "language": "python",
   "name": "python3"
  },
  "language_info": {
   "codemirror_mode": {
    "name": "ipython",
    "version": 3
   },
   "file_extension": ".py",
   "mimetype": "text/x-python",
   "name": "python",
   "nbconvert_exporter": "python",
   "pygments_lexer": "ipython3",
   "version": "3.7.3"
  }
 },
 "nbformat": 4,
 "nbformat_minor": 2
}