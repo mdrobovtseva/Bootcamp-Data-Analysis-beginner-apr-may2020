{
 "cells": [
  {
   "cell_type": "markdown",
   "metadata": {},
   "source": [
    "# 1\n",
    "`d = {'x': 10, 'y': 20, 'z': 30} `\n",
    "1. Print what value y has\n",
    "2. Print all the keys\n",
    "3. Write a Python program to iterate over the dictionary using for loops, print every value.\n",
    "4. Add 5 to each value in the dictonary\n",
    "5. Can you use a dictionary comprehesion for above mentioned question?\n",
    "6. Write a Python program to sum all the values in the dictionary."
   ]
  },
  {
   "cell_type": "code",
   "execution_count": null,
   "metadata": {},
   "outputs": [],
   "source": []
  },
  {
   "cell_type": "markdown",
   "metadata": {},
   "source": [
    "# 2\n",
    "1. How many unique cities does the dataset contain?\n",
    "2. How many rows and columns does the dataset have?\n",
    "3. How many unique cities does the dataframe contain? "
   ]
  },
  {
   "cell_type": "code",
   "execution_count": null,
   "metadata": {},
   "outputs": [],
   "source": []
  },
  {
   "cell_type": "markdown",
   "metadata": {},
   "source": [
    "# 3\n",
    "1. Prove the dataframe has no missing values\n",
    "2. What percentage of the dataframe has information about a case in Seoul?\n",
    "3. How many confirmed cases in Seoul?"
   ]
  },
  {
   "cell_type": "code",
   "execution_count": null,
   "metadata": {},
   "outputs": [],
   "source": []
  }
 ],
 "metadata": {
  "kernelspec": {
   "display_name": "Python 3",
   "language": "python",
   "name": "python3"
  },
  "language_info": {
   "codemirror_mode": {
    "name": "ipython",
    "version": 3
   },
   "file_extension": ".py",
   "mimetype": "text/x-python",
   "name": "python",
   "nbconvert_exporter": "python",
   "pygments_lexer": "ipython3",
   "version": "3.7.3"
  }
 },
 "nbformat": 4,
 "nbformat_minor": 2
}