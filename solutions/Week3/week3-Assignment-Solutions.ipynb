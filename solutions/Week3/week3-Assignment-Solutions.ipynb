{
 "cells": [
  {
   "cell_type": "markdown",
   "metadata": {},
   "source": [
    "# Assignment\n",
    "\n",
    "Take the dataset you found in week 1 and try to explore it. If you do not have a dataset yet, visit `https://www.kaggle.com/datasets` to find it, or use the covid-19 dataset provided\n",
    "\n",
    "1. Try to describe the dataset in markdown, write an introduction text about what the dataset contains and what you will explore\n",
    "2. Uses pandas functions to do exploration of the dataset\n",
    "    - How big is your dataset\n",
    "    - Averages\n",
    "3. Rename a column, check out the documentation how to do this (https://pandas.pydata.org/pandas-docs/stable/reference/api/pandas.DataFrame.rename.html)\n",
    "4. Check for null values\n",
    "5. Fill your null values, make sure to write in markdown the decision, you made about filling the null values (average / median), think what is most appropriate in you case\n",
    "6. If you have strings in your dataset, try to add an exclamation mark to the string of the current column (so you can overwrite the column)\n",
    "7. If you have integers in your dataset, create a new column called \"plus1\" and add 1 to the integer column\n",
    "8. If you have dates in your dataset, try to extract the year and put this in a 'year' column\n",
    "9. Try to awnser the questions you wrote down in week 1\n"
   ]
  },
  {
   "cell_type": "markdown",
   "metadata": {},
   "source": [
    "# An exporation of Covid-19 cases in China\n",
    "Write here a summary of what your dataset is about and the result of the analysis you did. Talk about the key take aways and important things other data analyst should know before they look at your code\n",
    "\n",
    "## Layout\n",
    "Go check out these links for tips\n",
    "1. https://towardsdatascience.com/jupyter-notebook-best-practices-f430a6ba8c69\n",
    "2. https://blog.jupyter.org/introducing-templates-for-jupyter-widget-layouts-f72bcb35a662"
   ]
  },
  {
   "cell_type": "code",
   "execution_count": 1,
   "metadata": {},
   "outputs": [],
   "source": [
    "import pandas as pd\n",
    "\n",
    "# read the data\n",
    "path = 'Coronavirusdataset/Case.csv'\n",
    "df = pd.read_csv(path)"
   ]
  },
  {
   "cell_type": "code",
   "execution_count": 2,
   "metadata": {},
   "outputs": [
    {
     "output_type": "stream",
     "name": "stdout",
     "text": "<class 'pandas.core.frame.DataFrame'>\nRangeIndex: 112 entries, 0 to 111\nData columns (total 8 columns):\n #   Column          Non-Null Count  Dtype \n---  ------          --------------  ----- \n 0   case_id         112 non-null    int64 \n 1   province        112 non-null    object\n 2   city            112 non-null    object\n 3   group           112 non-null    bool  \n 4   infection_case  112 non-null    object\n 5   confirmed       112 non-null    int64 \n 6   latitude        112 non-null    object\n 7   longitude       112 non-null    object\ndtypes: bool(1), int64(2), object(5)\nmemory usage: 6.4+ KB\n"
    }
   ],
   "source": [
    "df.info()"
   ]
  },
  {
   "cell_type": "code",
   "execution_count": 3,
   "metadata": {},
   "outputs": [
    {
     "output_type": "execute_result",
     "data": {
      "text/plain": "count     112.000000\nmean       87.446429\nstd       440.293981\nmin         0.000000\n25%         5.000000\n50%        10.000000\n75%        33.000000\nmax      4510.000000\nName: confirmed, dtype: float64"
     },
     "metadata": {},
     "execution_count": 3
    }
   ],
   "source": [
    "df.confirmed.describe()"
   ]
  },
  {
   "cell_type": "code",
   "execution_count": 4,
   "metadata": {},
   "outputs": [],
   "source": [
    "df = df.rename(columns={'confirmed': 'confirmed_cases'})"
   ]
  },
  {
   "cell_type": "code",
   "execution_count": 5,
   "metadata": {},
   "outputs": [
    {
     "output_type": "execute_result",
     "data": {
      "text/plain": "Index(['case_id', 'province', 'city', 'group', 'infection_case',\n       'confirmed_cases', 'latitude', 'longitude'],\n      dtype='object')"
     },
     "metadata": {},
     "execution_count": 5
    }
   ],
   "source": [
    "df.columns"
   ]
  },
  {
   "cell_type": "code",
   "execution_count": 6,
   "metadata": {},
   "outputs": [
    {
     "output_type": "execute_result",
     "data": {
      "text/plain": "case_id            0\nprovince           0\ncity               0\ngroup              0\ninfection_case     0\nconfirmed_cases    0\nlatitude           0\nlongitude          0\ndtype: int64"
     },
     "metadata": {},
     "execution_count": 6
    }
   ],
   "source": [
    "df.isnull().sum()"
   ]
  },
  {
   "cell_type": "code",
   "execution_count": 7,
   "metadata": {},
   "outputs": [
    {
     "output_type": "execute_result",
     "data": {
      "text/plain": "0                 Seoul!\n1                 Seoul!\n2                 Seoul!\n3                 Seoul!\n4                 Seoul!\n             ...        \n107    Gyeongsangnam-do!\n108    Gyeongsangnam-do!\n109             Jeju-do!\n110             Jeju-do!\n111             Jeju-do!\nName: province, Length: 112, dtype: object"
     },
     "metadata": {},
     "execution_count": 7
    }
   ],
   "source": [
    "df['province'] = df['province'].astype(str) + '!'\n",
    "df['province']"
   ]
  },
  {
   "cell_type": "code",
   "execution_count": 8,
   "metadata": {},
   "outputs": [
    {
     "output_type": "execute_result",
     "data": {
      "text/plain": "0                 Seoul!\n1                 Seoul!\n2                 Seoul!\n3                 Seoul!\n4                 Seoul!\n             ...        \n107    Gyeongsangnam-do!\n108    Gyeongsangnam-do!\n109             Jeju-do!\n110             Jeju-do!\n111             Jeju-do!\nName: province, Length: 112, dtype: object"
     },
     "metadata": {},
     "execution_count": 8
    }
   ],
   "source": [
    "df.province"
   ]
  },
  {
   "cell_type": "code",
   "execution_count": 10,
   "metadata": {},
   "outputs": [],
   "source": [
    "df.plus1 = df.confirmed_cases + 1"
   ]
  },
  {
   "cell_type": "code",
   "execution_count": 11,
   "metadata": {},
   "outputs": [
    {
     "output_type": "execute_result",
     "data": {
      "text/plain": "     case_id           province           city  group  \\\n0    1000001             Seoul!        Guro-gu   True   \n1    1000002             Seoul!  Dongdaemun-gu   True   \n2    1000003             Seoul!        Guro-gu   True   \n3    1000004             Seoul!   Eunpyeong-gu   True   \n4    1000005             Seoul!   Seongdong-gu   True   \n..       ...                ...            ...    ...   \n107  6100009  Gyeongsangnam-do!              -  False   \n108  6100010  Gyeongsangnam-do!              -  False   \n109  7000001           Jeju-do!              -  False   \n110  7000002           Jeju-do!              -  False   \n111  7000003           Jeju-do!              -  False   \n\n                    infection_case  confirmed_cases   latitude   longitude  \\\n0              Guro-gu Call Center               98  37.508163  126.884387   \n1                    Dongan Church               20  37.592888  127.056766   \n2            Manmin Central Church               41  37.481059  126.894343   \n3    Eunpyeong St. Mary's Hospital               14   37.63369    126.9165   \n4                 Seongdong-gu APT               13   37.55713    127.0403   \n..                             ...              ...        ...         ...   \n107           contact with patient                6          -           -   \n108                            etc               18          -           -   \n109                overseas inflow                9          -           -   \n110           contact with patient                0          -           -   \n111                            etc                4          -           -   \n\n     plus1  \n0       99  \n1       21  \n2       42  \n3       15  \n4       14  \n..     ...  \n107      7  \n108     19  \n109     10  \n110      1  \n111      5  \n\n[112 rows x 9 columns]",
      "text/html": "<div>\n<style scoped>\n    .dataframe tbody tr th:only-of-type {\n        vertical-align: middle;\n    }\n\n    .dataframe tbody tr th {\n        vertical-align: top;\n    }\n\n    .dataframe thead th {\n        text-align: right;\n    }\n</style>\n<table border=\"1\" class=\"dataframe\">\n  <thead>\n    <tr style=\"text-align: right;\">\n      <th></th>\n      <th>case_id</th>\n      <th>province</th>\n      <th>city</th>\n      <th>group</th>\n      <th>infection_case</th>\n      <th>confirmed_cases</th>\n      <th>latitude</th>\n      <th>longitude</th>\n      <th>plus1</th>\n    </tr>\n  </thead>\n  <tbody>\n    <tr>\n      <th>0</th>\n      <td>1000001</td>\n      <td>Seoul!</td>\n      <td>Guro-gu</td>\n      <td>True</td>\n      <td>Guro-gu Call Center</td>\n      <td>98</td>\n      <td>37.508163</td>\n      <td>126.884387</td>\n      <td>99</td>\n    </tr>\n    <tr>\n      <th>1</th>\n      <td>1000002</td>\n      <td>Seoul!</td>\n      <td>Dongdaemun-gu</td>\n      <td>True</td>\n      <td>Dongan Church</td>\n      <td>20</td>\n      <td>37.592888</td>\n      <td>127.056766</td>\n      <td>21</td>\n    </tr>\n    <tr>\n      <th>2</th>\n      <td>1000003</td>\n      <td>Seoul!</td>\n      <td>Guro-gu</td>\n      <td>True</td>\n      <td>Manmin Central Church</td>\n      <td>41</td>\n      <td>37.481059</td>\n      <td>126.894343</td>\n      <td>42</td>\n    </tr>\n    <tr>\n      <th>3</th>\n      <td>1000004</td>\n      <td>Seoul!</td>\n      <td>Eunpyeong-gu</td>\n      <td>True</td>\n      <td>Eunpyeong St. Mary's Hospital</td>\n      <td>14</td>\n      <td>37.63369</td>\n      <td>126.9165</td>\n      <td>15</td>\n    </tr>\n    <tr>\n      <th>4</th>\n      <td>1000005</td>\n      <td>Seoul!</td>\n      <td>Seongdong-gu</td>\n      <td>True</td>\n      <td>Seongdong-gu APT</td>\n      <td>13</td>\n      <td>37.55713</td>\n      <td>127.0403</td>\n      <td>14</td>\n    </tr>\n    <tr>\n      <th>...</th>\n      <td>...</td>\n      <td>...</td>\n      <td>...</td>\n      <td>...</td>\n      <td>...</td>\n      <td>...</td>\n      <td>...</td>\n      <td>...</td>\n      <td>...</td>\n    </tr>\n    <tr>\n      <th>107</th>\n      <td>6100009</td>\n      <td>Gyeongsangnam-do!</td>\n      <td>-</td>\n      <td>False</td>\n      <td>contact with patient</td>\n      <td>6</td>\n      <td>-</td>\n      <td>-</td>\n      <td>7</td>\n    </tr>\n    <tr>\n      <th>108</th>\n      <td>6100010</td>\n      <td>Gyeongsangnam-do!</td>\n      <td>-</td>\n      <td>False</td>\n      <td>etc</td>\n      <td>18</td>\n      <td>-</td>\n      <td>-</td>\n      <td>19</td>\n    </tr>\n    <tr>\n      <th>109</th>\n      <td>7000001</td>\n      <td>Jeju-do!</td>\n      <td>-</td>\n      <td>False</td>\n      <td>overseas inflow</td>\n      <td>9</td>\n      <td>-</td>\n      <td>-</td>\n      <td>10</td>\n    </tr>\n    <tr>\n      <th>110</th>\n      <td>7000002</td>\n      <td>Jeju-do!</td>\n      <td>-</td>\n      <td>False</td>\n      <td>contact with patient</td>\n      <td>0</td>\n      <td>-</td>\n      <td>-</td>\n      <td>1</td>\n    </tr>\n    <tr>\n      <th>111</th>\n      <td>7000003</td>\n      <td>Jeju-do!</td>\n      <td>-</td>\n      <td>False</td>\n      <td>etc</td>\n      <td>4</td>\n      <td>-</td>\n      <td>-</td>\n      <td>5</td>\n    </tr>\n  </tbody>\n</table>\n<p>112 rows × 9 columns</p>\n</div>"
     },
     "metadata": {},
     "execution_count": 11
    }
   ],
   "source": [
    "df"
   ]
  },
  {
   "cell_type": "code",
   "execution_count": null,
   "metadata": {},
   "outputs": [],
   "source": [
    "# we do not have dates in this dataset, that's why we do not have anything to extract \"year\" from"
   ]
  }
 ],
 "metadata": {
  "kernelspec": {
   "display_name": "Python 3",
   "language": "python",
   "name": "python3"
  },
  "language_info": {
   "codemirror_mode": {
    "name": "ipython",
    "version": 3
   },
   "file_extension": ".py",
   "mimetype": "text/x-python",
   "name": "python",
   "nbconvert_exporter": "python",
   "pygments_lexer": "ipython3",
   "version": "3.7.7-final"
  }
 },
 "nbformat": 4,
 "nbformat_minor": 2
}