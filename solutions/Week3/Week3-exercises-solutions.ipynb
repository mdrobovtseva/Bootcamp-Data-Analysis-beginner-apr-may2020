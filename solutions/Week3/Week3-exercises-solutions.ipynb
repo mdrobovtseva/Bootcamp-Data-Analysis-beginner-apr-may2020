{
 "cells": [
  {
   "cell_type": "markdown",
   "metadata": {},
   "source": [
    "# 1\n",
    "`d = {'x': 10, 'y': 20, 'z': 30} `\n",
    "1. Print what value y has\n",
    "2. Print all the keys\n",
    "3. Write a Python program to iterate over the dictionary using for loops, print every value.\n",
    "4. Add 5 to very value in the dictonary\n",
    "5. Can you use a dictionary comprehesion for above mentioned question?\n",
    "6. Write a Python program to sum all the values in the dictionary."
   ]
  },
  {
   "cell_type": "code",
   "execution_count": 1,
   "metadata": {},
   "outputs": [
    {
     "output_type": "execute_result",
     "data": {
      "text/plain": "20"
     },
     "metadata": {},
     "execution_count": 1
    }
   ],
   "source": [
    "d = {'x': 10, 'y': 20, 'z': 30}\n",
    "d['y']"
   ]
  },
  {
   "cell_type": "code",
   "execution_count": 2,
   "metadata": {},
   "outputs": [
    {
     "output_type": "stream",
     "name": "stdout",
     "text": "dict_keys(['x', 'y', 'z'])\n"
    }
   ],
   "source": [
    "print(d.keys())"
   ]
  },
  {
   "cell_type": "code",
   "execution_count": 5,
   "metadata": {},
   "outputs": [
    {
     "output_type": "stream",
     "name": "stdout",
     "text": "10\n20\n30\n"
    }
   ],
   "source": [
    "for key, value in d.items():\n",
    "    print(value)"
   ]
  },
  {
   "cell_type": "code",
   "execution_count": 6,
   "metadata": {},
   "outputs": [
    {
     "output_type": "stream",
     "name": "stdout",
     "text": "15\n25\n35\n"
    }
   ],
   "source": [
    "for key, value in d.items():\n",
    "    value += 5\n",
    "    print(value)"
   ]
  },
  {
   "cell_type": "code",
   "execution_count": 7,
   "metadata": {},
   "outputs": [
    {
     "output_type": "execute_result",
     "data": {
      "text/plain": "{'x': 15, 'y': 25, 'z': 35}"
     },
     "metadata": {},
     "execution_count": 7
    }
   ],
   "source": [
    "{key: value+5 for key, value in d.items()}"
   ]
  },
  {
   "cell_type": "code",
   "execution_count": 8,
   "metadata": {},
   "outputs": [
    {
     "output_type": "execute_result",
     "data": {
      "text/plain": "60"
     },
     "metadata": {},
     "execution_count": 8
    }
   ],
   "source": [
    "sum(d.values())"
   ]
  },
  {
   "cell_type": "markdown",
   "metadata": {},
   "source": [
    "# 2\n",
    "1. How many unique cities does the dataset contain?\n",
    "2. How many rows and columns does the dataset have?\n",
    "3. How many unique cities does the dataframe contain? "
   ]
  },
  {
   "cell_type": "code",
   "execution_count": 9,
   "metadata": {},
   "outputs": [],
   "source": [
    "# import libary\n",
    "import pandas as pd\n",
    "\n",
    "## Uncomment below to check current path\n",
    "# import os\n",
    "# os.getcwd()"
   ]
  },
  {
   "cell_type": "code",
   "execution_count": 10,
   "metadata": {},
   "outputs": [],
   "source": [
    "# read the data\n",
    "path = 'Coronavirusdataset/Case.csv'\n",
    "df = pd.read_csv(path)"
   ]
  },
  {
   "cell_type": "code",
   "execution_count": 11,
   "metadata": {},
   "outputs": [
    {
     "output_type": "execute_result",
     "data": {
      "text/plain": "   case_id province     city  group       infection_case  confirmed  \\\n0  1000001    Seoul  Guro-gu   True  Guro-gu Call Center         98   \n\n    latitude   longitude  \n0  37.508163  126.884387  ",
      "text/html": "<div>\n<style scoped>\n    .dataframe tbody tr th:only-of-type {\n        vertical-align: middle;\n    }\n\n    .dataframe tbody tr th {\n        vertical-align: top;\n    }\n\n    .dataframe thead th {\n        text-align: right;\n    }\n</style>\n<table border=\"1\" class=\"dataframe\">\n  <thead>\n    <tr style=\"text-align: right;\">\n      <th></th>\n      <th>case_id</th>\n      <th>province</th>\n      <th>city</th>\n      <th>group</th>\n      <th>infection_case</th>\n      <th>confirmed</th>\n      <th>latitude</th>\n      <th>longitude</th>\n    </tr>\n  </thead>\n  <tbody>\n    <tr>\n      <th>0</th>\n      <td>1000001</td>\n      <td>Seoul</td>\n      <td>Guro-gu</td>\n      <td>True</td>\n      <td>Guro-gu Call Center</td>\n      <td>98</td>\n      <td>37.508163</td>\n      <td>126.884387</td>\n    </tr>\n  </tbody>\n</table>\n</div>"
     },
     "metadata": {},
     "execution_count": 11
    }
   ],
   "source": [
    "df.head(1)"
   ]
  },
  {
   "cell_type": "code",
   "execution_count": 12,
   "metadata": {},
   "outputs": [
    {
     "output_type": "execute_result",
     "data": {
      "text/plain": "34"
     },
     "metadata": {},
     "execution_count": 12
    }
   ],
   "source": [
    "len(df.city.unique())"
   ]
  },
  {
   "cell_type": "code",
   "execution_count": 13,
   "metadata": {},
   "outputs": [
    {
     "output_type": "stream",
     "name": "stdout",
     "text": "dataset has 112 rows and 8 columns\n"
    }
   ],
   "source": [
    "print(f\"dataset has {df.shape[0]} rows and {df.shape[1]} columns\")"
   ]
  },
  {
   "cell_type": "code",
   "execution_count": 14,
   "metadata": {},
   "outputs": [
    {
     "output_type": "execute_result",
     "data": {
      "text/plain": "8"
     },
     "metadata": {},
     "execution_count": 14
    }
   ],
   "source": [
    "# create dataframe that contains only cities from Seoul province\n",
    "seoul_df = df[df.province == \"Seoul\"]\n",
    "\n",
    "#calculate how many unique cities this dataframe contains\n",
    "len(seoul_df.city.unique())"
   ]
  },
  {
   "cell_type": "markdown",
   "metadata": {},
   "source": [
    "# 3\n",
    "1. Prove the dataframe has no missing values\n",
    "2. What percentage of the dataframe has information about a case in Seoul?\n",
    "3. How many confirmed cases is Seoul?"
   ]
  },
  {
   "cell_type": "code",
   "execution_count": 15,
   "metadata": {},
   "outputs": [
    {
     "output_type": "stream",
     "name": "stdout",
     "text": "<class 'pandas.core.frame.DataFrame'>\nRangeIndex: 112 entries, 0 to 111\nData columns (total 8 columns):\n #   Column          Non-Null Count  Dtype \n---  ------          --------------  ----- \n 0   case_id         112 non-null    int64 \n 1   province        112 non-null    object\n 2   city            112 non-null    object\n 3   group           112 non-null    bool  \n 4   infection_case  112 non-null    object\n 5   confirmed       112 non-null    int64 \n 6   latitude        112 non-null    object\n 7   longitude       112 non-null    object\ndtypes: bool(1), int64(2), object(5)\nmemory usage: 6.4+ KB\n"
    }
   ],
   "source": [
    "df.info()"
   ]
  },
  {
   "cell_type": "code",
   "execution_count": 16,
   "metadata": {},
   "outputs": [
    {
     "output_type": "execute_result",
     "data": {
      "text/plain": "case_id           0\nprovince          0\ncity              0\ngroup             0\ninfection_case    0\nconfirmed         0\nlatitude          0\nlongitude         0\ndtype: int64"
     },
     "metadata": {},
     "execution_count": 16
    }
   ],
   "source": [
    "df.isnull().sum()"
   ]
  },
  {
   "cell_type": "code",
   "execution_count": 17,
   "metadata": {},
   "outputs": [
    {
     "output_type": "execute_result",
     "data": {
      "text/plain": "Gyeongsangbuk-do     0.107143\nSeoul                0.098214\nGyeongsangnam-do     0.089286\nGyeonggi-do          0.080357\nDaegu                0.080357\nBusan                0.080357\nSejong               0.053571\nDaejeon              0.053571\nGangwon-do           0.053571\nJeollanam-do         0.044643\nChungcheongbuk-do    0.044643\nChungcheongnam-do    0.044643\nIncheon              0.044643\nUlsan                0.035714\nGwangju              0.035714\nJeju-do              0.026786\nJeollabuk-do         0.026786\nName: province, dtype: float64"
     },
     "metadata": {},
     "execution_count": 17
    }
   ],
   "source": [
    "df.province.value_counts(1)"
   ]
  },
  {
   "cell_type": "code",
   "execution_count": 18,
   "metadata": {},
   "outputs": [
    {
     "output_type": "execute_result",
     "data": {
      "text/plain": "565"
     },
     "metadata": {},
     "execution_count": 18
    }
   ],
   "source": [
    "df[df.province == \"Seoul\"].confirmed.sum()"
   ]
  },
  {
   "cell_type": "markdown",
   "metadata": {},
   "source": []
  }
 ],
 "metadata": {
  "kernelspec": {
   "display_name": "testj",
   "language": "python",
   "name": "build_central"
  },
  "language_info": {
   "codemirror_mode": {
    "name": "ipython",
    "version": 3
   },
   "file_extension": ".py",
   "mimetype": "text/x-python",
   "name": "python",
   "nbconvert_exporter": "python",
   "pygments_lexer": "ipython3",
   "version": "3.7.7-final"
  }
 },
 "nbformat": 4,
 "nbformat_minor": 2
}