{
 "cells": [
  {
   "cell_type": "markdown",
   "metadata": {},
   "source": [
    "# Collect data\n",
    "1. Find yourself a dataset that you want to analyse, this dataset has to be a csv file (excel), we are going to use this dataset in the coming weeks to give you real working experience.\n",
    "\n",
    "    - The dataset can be from your own work of you can explore https://www.kaggle.com/datasets\n",
    "    - Look for datasets with not too many columns\n",
    "    \n",
    "    \n",
    "2. Write down at least 3 questions, that you want to know from the data set\n",
    "    - Do not go too hard on yourself\n",
    "\n",
    "# Explain concepts\n",
    "\n",
    "Because we all know how hard it is to explain concepts, that's why we need to practise. You do not have to type things done, just try to explain the concept to someone you know. Of course, you can google it first\n",
    "\n",
    "1. Explain why we use the print statement\n",
    "\n",
    "2. Explain why for loops are handy\n",
    "\n",
    "3. What is the difference between a set, a tuple and a list\n",
    "\n",
    "4. Why do we need to use comments and what is the best way to use them\n"
   ]
  },
  {
   "cell_type": "markdown",
   "metadata": {},
   "source": [
    "# 1.\n",
    "Print just shows a human user a string, representing what is going on inside the computer. The computer cannot make use of that printing. Return is how a function gives back a value. This value is often unseen by the human user, but it can be used by the computer in further functions.\n",
    "\n",
    "On a more expansive note, print will not in any way affect a function. It is simply there for the human user's benefit. It is very useful for understanding how a program works and can be used in debugging to check various values in a program without interrupting the program."
   ]
  },
  {
   "cell_type": "code",
   "execution_count": 1,
   "metadata": {},
   "outputs": [
    {
     "output_type": "stream",
     "name": "stdout",
     "text": "I printed\n\nNow let us see what the values of f1 and f2 are\nNone\nI returned\n"
    }
   ],
   "source": [
    "def function_that_prints():\n",
    "    print (\"I printed\")\n",
    "\n",
    "def function_that_returns():\n",
    "    return \"I returned\"\n",
    "\n",
    "f1 = function_that_prints()\n",
    "f2 = function_that_returns()\n",
    "print()\n",
    "print (\"Now let us see what the values of f1 and f2 are\")\n",
    "print (f1)\n",
    "print (f2)"
   ]
  },
  {
   "cell_type": "markdown",
   "metadata": {},
   "source": [
    "# 2. \n",
    "A for loop is used for iterating over a sequence (that is either a list, a tuple, a dictionary, a set, or a string). It is a control flow statement, which allows code to be executed repeatedly. "
   ]
  },
  {
   "cell_type": "code",
   "execution_count": 11,
   "metadata": {},
   "outputs": [
    {
     "name": "stdout",
     "output_type": "stream",
     "text": [
      "apple\n",
      "banana\n",
      "cherry\n",
      "b\n",
      "a\n",
      "n\n",
      "a\n",
      "n\n",
      "a\n"
     ]
    }
   ],
   "source": [
    "fruits = [\"apple\", \"banana\", \"cherry\"]\n",
    "for fruit in fruits:\n",
    "    print(fruit)\n",
    "\n",
    "for x in \"banana\":\n",
    "    print(x)"
   ]
  },
  {
   "cell_type": "markdown",
   "metadata": {},
   "source": [
    "# 3."
   ]
  },
  {
   "cell_type": "markdown",
   "metadata": {},
   "source": [
    "Lists and tuples are standard Python datatypes that store values in a sequence. Sets are another standard Python datatype that also store values. The major difference is that sets, unlike lists or tuples, cannot have multiple occurrences of the same element and store unordered values.\n",
    "\n",
    "Because sets cannot have multiple occurrences of the same element, it makes sets highly useful to efficiently remove duplicate values from a list or tuple and to perform common math operations like unions and intersections.\n",
    "\n",
    "practice more: https://www.datacamp.com/community/tutorials/sets-in-python\n",
    "\n",
    "\n",
    "# 4. \n",
    "At most basic level, through the code you are communicating with the machine and through the code you are communicating with the human audience. And most important human audience that would read your code would be , You! after six months. And believe us, you will thank yourself later.\n",
    "\n",
    "The zen of python states (https://www.python.org/dev/peps/pep-0020/): explicit is better then implicit and Readability counts, which means you should type out your code as good as posible so you would not need to much comments. Comments give you and your teammates an idea about why your block should do what the code does. It is important to state the why, what you tested, what not worked. \n",
    "\n",
    "You do not have to comment code like:"
   ]
  },
  {
   "cell_type": "code",
   "execution_count": 3,
   "metadata": {},
   "outputs": [
    {
     "output_type": "stream",
     "name": "stdout",
     "text": "d\no\n \nn\no\nt\n \nn\ne\ne\nd\n \nc\no\nm\nm\ne\nn\nt\n"
    }
   ],
   "source": [
    "# prints every item from a list, no, you can (within a few weeks) just read that ;-) \n",
    "for item in 'do not need comment':\n",
    "    print(item)\n",
    "    "
   ]
  },
  {
   "cell_type": "code",
   "execution_count": null,
   "metadata": {},
   "outputs": [],
   "source": []
  }
 ],
 "metadata": {
  "kernelspec": {
   "display_name": "Python 3",
   "language": "python",
   "name": "python3"
  },
  "language_info": {
   "codemirror_mode": {
    "name": "ipython",
    "version": 3
   },
   "file_extension": ".py",
   "mimetype": "text/x-python",
   "name": "python",
   "nbconvert_exporter": "python",
   "pygments_lexer": "ipython3",
   "version": "3.7.7-final"
  }
 },
 "nbformat": 4,
 "nbformat_minor": 4
}